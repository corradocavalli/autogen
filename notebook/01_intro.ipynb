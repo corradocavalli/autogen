{
 "cells": [
  {
   "cell_type": "markdown",
   "metadata": {},
   "source": [
    "## Introduction\n",
    "Autogent is a framework for building Multi-Agent-Solutions.\n",
    "### Agent\n",
    "What is an Agent? Is the result of a conversation between an LLM and one (or more) \"tools\" (a.k.a functions).\n",
    "The user provides, together with the input request a series of \"options\" that the LLM, depending on the content of the prompt\n",
    "can decide to use and, depending on the results returned can guide the following steps.\n",
    "### Multi Agent Solution\n",
    "Is a solution where more than a single agent is involved.\n",
    "Imagine a solution where the user can, using natural language, place an order, request to cancel an order or request a refund\n",
    "for an an order.  \n",
    "Each task could be handles by and independent agent while all the agent could be guided by a central agent that decides which\n",
    "one should be in charge of processing the user request.  \n",
    "Another example could be a solution that processes orders:\n",
    "\n",
    "1. The users sends a request to buy an article\n",
    "2. The first agent in the workflow processes the order\n",
    "3. The 2nd handle invoicing\n",
    "4. The 3r handle shipping details\n",
    "5. The 5th sends a confirmation to the user\n",
    "\n",
    "In this case, we could use a Sequential/Chain workflow where, at the end, every agent trigger the next one in the chain.\n",
    "\n"
   ]
  },
  {
   "cell_type": "markdown",
   "metadata": {},
   "source": [
    "## Autogen is just an orchestrator\n",
    "Autogen is mainly an orchestrator meaning that, in theory, we can also use it without involving the use of an LLM.\n",
    "At it's core, Autogen provides a runtime environment that facilitates the communication between agents.  \n",
    "Every agent is an independent, standalone and stateless unit that just handles and replies to messages it receives.\n",
    "Of course, together with this messaging system, Autogen provides support for interacting with LLM and tools, making it a good\n",
    "option for builing so called \"Agentic\" applications."
   ]
  }
 ],
 "metadata": {
  "language_info": {
   "name": "python"
  }
 },
 "nbformat": 4,
 "nbformat_minor": 2
}
