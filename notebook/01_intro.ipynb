{
 "cells": [
  {
   "cell_type": "markdown",
   "metadata": {},
   "source": [
    "# Introduction  \n",
    "[AutoGen](https://microsoft.github.io/autogen/stable/index.html) is an open-source framework designed to simplify the creation of AI-powered multi-agent systems.  \n",
    "It enables developers to build intelligent agents that interact with large language models (LLMs) and external tools to automate tasks, process information, \n",
    "and collaborate dynamically. By providing a structured way to define agents, manage their interactions, and orchestrate workflows, \n",
    "AutoGen makes it easier to develop applications for customer support, data analysis, automation, and more.\n",
    " \n",
    "\n",
    "### What is an Agent?  \n",
    "An agent is the result of an interaction between a large language model (LLM) and one or more \"tools\" (also known as functions).  \n",
    "The user provides an input request along with a set of options. Depending on the prompt's content, the LLM can decide which options to use. Based on the results returned, it can then determine the next steps in the process. \n",
    "In AutoGen an agent is a software entity that communicates via messages, maintains its own state, and performs actions in response to received messages or changes in its state. \n",
    "\n",
    "### Multi-Agent Solutions  \n",
    "A multi-agent solution involves multiple agents working together to accomplish tasks.  \n",
    "\n",
    "For example, consider a system where a user can place an order, request a cancellation, or ask for a refund using natural language.  \n",
    "Each of these tasks could be managed by an independent agent, while a central agent orchestrates the process by deciding which agent should handle each request.  \n",
    "\n",
    "Another example is an order-processing system:  \n",
    "\n",
    "1. The user submits a request to purchase an item.  \n",
    "2. The first agent processes the order.  \n",
    "3. The second agent handles invoicing.  \n",
    "4. The third agent manages shipping details.  \n",
    "5. The fourth agent sends a confirmation to the user.  \n",
    "\n",
    "In this scenario, a **sequential (or chain) workflow** could be used, where each agent triggers the next one in the sequence. However, workflows can follow various topologies depending on the use case. "
   ]
  },
  {
   "cell_type": "markdown",
   "metadata": {},
   "source": [
    "### The notebooks \n",
    "\n",
    "1. This introduction\n",
    "2. Your first Agent that uses a tool and the [AssistantAgent](https://microsoft.github.io/autogen/stable/reference/python/autogen_agentchat.agents.html#autogen_agentchat.agents.AssistantAgent) component\n",
    "3. A Team of two agents talking to each other using [RoundRobinGroupChat](https://microsoft.github.io/autogen/stable/reference/python/autogen_agentchat.teams.html#autogen_agentchat.teams.RoundRobinGroupChat)\n",
    "4. How to add humant interaction in the workflow.\n",
    "5. The Selector Group Chat team\n",
    "6. The Swarm Team\n",
    "7. How to add memory to an Agent\n",
    "8. Autogen under the hood\n",
    "9. The messaging sytem.\n",
    "10. Create an agent that uses some tools that allow the user to place orders.\n",
    "11. Show how to use direct messaging using request/response approach.\n",
    "12. Example of broadcast messaging and how to collect result out of an agent workflow. "
   ]
  }
 ],
 "metadata": {
  "language_info": {
   "name": "python"
  }
 },
 "nbformat": 4,
 "nbformat_minor": 2
}
