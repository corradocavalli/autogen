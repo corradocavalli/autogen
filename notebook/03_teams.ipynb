{
 "cells": [
  {
   "cell_type": "markdown",
   "metadata": {},
   "source": [
    "## Teams  \n",
    "In AutoGen, a group of two or more agents working together is referred to as a `Team`.  \n",
    "\n",
    "AutoGen provides several pre-configured agent workflows. One of the simplest is the `RoundRobinGroupChat`.  \n",
    "\n",
    "### RoundRobinGroupChat  \n",
    "`RoundRobinGroupChat` is a straightforward workflow where all participating agents share the same context and take turns responding in a round-robin fashion.  \n"
   ]
  },
  {
   "cell_type": "code",
   "execution_count": 6,
   "metadata": {},
   "outputs": [],
   "source": [
    "import sys\n",
    "sys.path.append(\"..\")\n",
    "from model_clients.azure import get_model\n",
    "from autogen_agentchat.agents import AssistantAgent\n",
    "from autogen_agentchat.base import TaskResult\n",
    "from autogen_agentchat.conditions import TextMentionTermination\n",
    "from autogen_agentchat.teams import RoundRobinGroupChat\n",
    "from autogen_agentchat.ui import Console\n",
    "from rich import print\n"
   ]
  },
  {
   "cell_type": "markdown",
   "metadata": {},
   "source": [
    "In the following cell we create the two agents that will make up the team, one is in charge of writing a poem, the other to evaluate it."
   ]
  },
  {
   "cell_type": "code",
   "execution_count": 7,
   "metadata": {},
   "outputs": [],
   "source": [
    "# Create the primary agent.\n",
    "writer_agent = AssistantAgent(\n",
    "    \"writer\",\n",
    "    model_client=get_model(),\n",
    "    system_message=\"You are a helpful AI assistant.\",\n",
    ")\n",
    "\n",
    "# Create the critic agent.\n",
    "critic_agent = AssistantAgent(\n",
    "    \"critic\",\n",
    "    model_client=get_model(),\n",
    "    system_message=\"Provide constructive feedback. Respond with 'APPROVE' only when your feedbacks are addressed.\",\n",
    ")"
   ]
  },
  {
   "cell_type": "markdown",
   "metadata": {},
   "source": [
    "We now establish communication between the two individual agents using a RoundRobinGroupChat, which facilitates the execution flow between the writer agent and the critic agent in an alternating manner. The writer agent submits content, the critic agent provides feedback, and the process continues iteratively.\n",
    "\n",
    "To prevent an indefinite loop, we implement a text_termination rule. In this case, the rule is triggered when the word **APPROVE** appears in the agent's response, signaling the completion of the exchange."
   ]
  },
  {
   "cell_type": "code",
   "execution_count": 8,
   "metadata": {},
   "outputs": [],
   "source": [
    "# Define a termination condition that stops the task if the critic approves.\n",
    "text_termination = TextMentionTermination(\"APPROVE\")\n",
    "\n",
    "# Create a team with the two agents and the termination condition.\n",
    "team = RoundRobinGroupChat(\n",
    "    [writer_agent, critic_agent], termination_condition=text_termination\n",
    ")"
   ]
  },
  {
   "cell_type": "markdown",
   "metadata": {},
   "source": [
    "It's now time to run the Team using the `run` method."
   ]
  },
  {
   "cell_type": "code",
   "execution_count": 9,
   "metadata": {},
   "outputs": [
    {
     "data": {
      "text/html": [
       "<pre style=\"white-space:pre;overflow-x:auto;line-height:normal;font-family:Menlo,'DejaVu Sans Mono',consolas,'Courier New',monospace\"><span style=\"color: #800080; text-decoration-color: #800080; font-weight: bold\">TaskResult</span><span style=\"font-weight: bold\">(</span>\n",
       "    <span style=\"color: #808000; text-decoration-color: #808000\">messages</span>=<span style=\"font-weight: bold\">[</span>\n",
       "        <span style=\"color: #800080; text-decoration-color: #800080; font-weight: bold\">TextMessage</span><span style=\"font-weight: bold\">(</span>\n",
       "            <span style=\"color: #808000; text-decoration-color: #808000\">source</span>=<span style=\"color: #008000; text-decoration-color: #008000\">'user'</span>,\n",
       "            <span style=\"color: #808000; text-decoration-color: #808000\">models_usage</span>=<span style=\"color: #800080; text-decoration-color: #800080; font-style: italic\">None</span>,\n",
       "            <span style=\"color: #808000; text-decoration-color: #808000\">metadata</span>=<span style=\"font-weight: bold\">{}</span>,\n",
       "            <span style=\"color: #808000; text-decoration-color: #808000\">content</span>=<span style=\"color: #008000; text-decoration-color: #008000\">'Write a short poem about the fall season.'</span>,\n",
       "            <span style=\"color: #808000; text-decoration-color: #808000\">type</span>=<span style=\"color: #008000; text-decoration-color: #008000\">'TextMessage'</span>\n",
       "        <span style=\"font-weight: bold\">)</span>,\n",
       "        <span style=\"color: #800080; text-decoration-color: #800080; font-weight: bold\">TextMessage</span><span style=\"font-weight: bold\">(</span>\n",
       "            <span style=\"color: #808000; text-decoration-color: #808000\">source</span>=<span style=\"color: #008000; text-decoration-color: #008000\">'writer'</span>,\n",
       "            <span style=\"color: #808000; text-decoration-color: #808000\">models_usage</span>=<span style=\"color: #800080; text-decoration-color: #800080; font-weight: bold\">RequestUsage</span><span style=\"font-weight: bold\">(</span><span style=\"color: #808000; text-decoration-color: #808000\">prompt_tokens</span>=<span style=\"color: #008080; text-decoration-color: #008080; font-weight: bold\">28</span>, <span style=\"color: #808000; text-decoration-color: #808000\">completion_tokens</span>=<span style=\"color: #008080; text-decoration-color: #008080; font-weight: bold\">125</span><span style=\"font-weight: bold\">)</span>,\n",
       "            <span style=\"color: #808000; text-decoration-color: #808000\">metadata</span>=<span style=\"font-weight: bold\">{}</span>,\n",
       "            <span style=\"color: #808000; text-decoration-color: #808000\">content</span>=<span style=\"color: #008000; text-decoration-color: #008000\">\"Golden leaves dance in the crisp, cool air,  \\nWhispering secrets only autumn can share.  </span>\n",
       "<span style=\"color: #008000; text-decoration-color: #008000\">\\nPumpkins adorn every doorstep and lane,  \\nAs harvests of plenty are gathered again.  \\n\\nThe sky stretches wide </span>\n",
       "<span style=\"color: #008000; text-decoration-color: #008000\">in a soft, warm hue,  \\nWhile gentle winds carry sweet scents anew.  \\nSweaters embrace us in comforting folds,  </span>\n",
       "<span style=\"color: #008000; text-decoration-color: #008000\">\\nAs stories by the fireside are lovingly told.  \\n\\nNature's quilt unfolds in russet and gold,  \\nA tapestry of </span>\n",
       "<span style=\"color: #008000; text-decoration-color: #008000\">beauty for all to behold.  \\nIn fall's fleeting moments, hearts find their pause,  \\nIn the season's embrace, just </span>\n",
       "<span style=\"color: #008000; text-decoration-color: #008000\">because.  \"</span>,\n",
       "            <span style=\"color: #808000; text-decoration-color: #808000\">type</span>=<span style=\"color: #008000; text-decoration-color: #008000\">'TextMessage'</span>\n",
       "        <span style=\"font-weight: bold\">)</span>,\n",
       "        <span style=\"color: #800080; text-decoration-color: #800080; font-weight: bold\">TextMessage</span><span style=\"font-weight: bold\">(</span>\n",
       "            <span style=\"color: #808000; text-decoration-color: #808000\">source</span>=<span style=\"color: #008000; text-decoration-color: #008000\">'critic'</span>,\n",
       "            <span style=\"color: #808000; text-decoration-color: #808000\">models_usage</span>=<span style=\"color: #800080; text-decoration-color: #800080; font-weight: bold\">RequestUsage</span><span style=\"font-weight: bold\">(</span><span style=\"color: #808000; text-decoration-color: #808000\">prompt_tokens</span>=<span style=\"color: #008080; text-decoration-color: #008080; font-weight: bold\">170</span>, <span style=\"color: #808000; text-decoration-color: #808000\">completion_tokens</span>=<span style=\"color: #008080; text-decoration-color: #008080; font-weight: bold\">179</span><span style=\"font-weight: bold\">)</span>,\n",
       "            <span style=\"color: #808000; text-decoration-color: #808000\">metadata</span>=<span style=\"font-weight: bold\">{}</span>,\n",
       "            <span style=\"color: #808000; text-decoration-color: #808000\">content</span>=<span style=\"color: #008000; text-decoration-color: #008000\">'Your poem beautifully captures the essence of fall, painting vivid imagery of the season with </span>\n",
       "<span style=\"color: #008000; text-decoration-color: #008000\">its colors and activities. The choice of words like \"golden leaves,\" \"crisp, cool air,\" and \"russet and gold\" </span>\n",
       "<span style=\"color: #008000; text-decoration-color: #008000\">aligns wonderfully with the theme. The structure flows seamlessly, with each stanza highlighting different aspects </span>\n",
       "<span style=\"color: #008000; text-decoration-color: #008000\">of autumn, from nature to personal experiences.\\n\\nConsider placing a slightly stronger emphasis on the transition </span>\n",
       "<span style=\"color: #008000; text-decoration-color: #008000\">from the first to the second stanza to ensure continuity in the imagery and feelings being portrayed. Perhaps </span>\n",
       "<span style=\"color: #008000; text-decoration-color: #008000\">introducing a word or phrase that bridges harvest to the cozy feeling would enrich the narrative.\\n\\nThe closing </span>\n",
       "<span style=\"color: #008000; text-decoration-color: #008000\">sentiment of \"In fall\\'s fleeting moments, hearts find their pause, In the season\\'s embrace, just because\" </span>\n",
       "<span style=\"color: #008000; text-decoration-color: #008000\">elegantly reflects the inner reflection prompted by the fall season.\\n\\nOnce these suggestions are addressed, you </span>\n",
       "<span style=\"color: #008000; text-decoration-color: #008000\">should have a well-rounded poem. Would you like to make any adjustments based on the feedback?'</span>,\n",
       "            <span style=\"color: #808000; text-decoration-color: #808000\">type</span>=<span style=\"color: #008000; text-decoration-color: #008000\">'TextMessage'</span>\n",
       "        <span style=\"font-weight: bold\">)</span>,\n",
       "        <span style=\"color: #800080; text-decoration-color: #800080; font-weight: bold\">TextMessage</span><span style=\"font-weight: bold\">(</span>\n",
       "            <span style=\"color: #808000; text-decoration-color: #808000\">source</span>=<span style=\"color: #008000; text-decoration-color: #008000\">'writer'</span>,\n",
       "            <span style=\"color: #808000; text-decoration-color: #808000\">models_usage</span>=<span style=\"color: #800080; text-decoration-color: #800080; font-weight: bold\">RequestUsage</span><span style=\"font-weight: bold\">(</span><span style=\"color: #808000; text-decoration-color: #808000\">prompt_tokens</span>=<span style=\"color: #008080; text-decoration-color: #008080; font-weight: bold\">342</span>, <span style=\"color: #808000; text-decoration-color: #808000\">completion_tokens</span>=<span style=\"color: #008080; text-decoration-color: #008080; font-weight: bold\">192</span><span style=\"font-weight: bold\">)</span>,\n",
       "            <span style=\"color: #808000; text-decoration-color: #808000\">metadata</span>=<span style=\"font-weight: bold\">{}</span>,\n",
       "            <span style=\"color: #808000; text-decoration-color: #808000\">content</span>=<span style=\"color: #008000; text-decoration-color: #008000\">\"Thank you for the thoughtful feedback. Here's a revised version that incorporates your </span>\n",
       "<span style=\"color: #008000; text-decoration-color: #008000\">suggestion:\\n\\nGolden leaves dance in the crisp, cool air,  \\nWhispering secrets only autumn can share.  \\nAs </span>\n",
       "<span style=\"color: #008000; text-decoration-color: #008000\">nature dons its vibrant attire,  \\nHarvests of plenty set hearts afire.  \\n\\nPumpkins adorn every doorstep and </span>\n",
       "<span style=\"color: #008000; text-decoration-color: #008000\">lane,  \\nApple-scented breezes call out once again.  \\nSweaters embrace us in comforting folds,  \\nAs stories by </span>\n",
       "<span style=\"color: #008000; text-decoration-color: #008000\">the fireside are lovingly told.  \\n\\nThe sky stretches wide in a soft, warm hue,  \\nBridging the coziness felt in </span>\n",
       "<span style=\"color: #008000; text-decoration-color: #008000\">all we do.  \\nNature's quilt unfolds in russet and gold,  \\nA tapestry of beauty for all to behold.  \\n\\nIn fall's </span>\n",
       "<span style=\"color: #008000; text-decoration-color: #008000\">fleeting moments, hearts find their pause,  \\nIn the season's embrace, just because.  \\n\\nI hope this version </span>\n",
       "<span style=\"color: #008000; text-decoration-color: #008000\">better bridges the ideas between stanzas while maintaining the poem's essence. Let me know if further changes are </span>\n",
       "<span style=\"color: #008000; text-decoration-color: #008000\">needed!\"</span>,\n",
       "            <span style=\"color: #808000; text-decoration-color: #808000\">type</span>=<span style=\"color: #008000; text-decoration-color: #008000\">'TextMessage'</span>\n",
       "        <span style=\"font-weight: bold\">)</span>,\n",
       "        <span style=\"color: #800080; text-decoration-color: #800080; font-weight: bold\">TextMessage</span><span style=\"font-weight: bold\">(</span>\n",
       "            <span style=\"color: #808000; text-decoration-color: #808000\">source</span>=<span style=\"color: #008000; text-decoration-color: #008000\">'critic'</span>,\n",
       "            <span style=\"color: #808000; text-decoration-color: #808000\">models_usage</span>=<span style=\"color: #800080; text-decoration-color: #800080; font-weight: bold\">RequestUsage</span><span style=\"font-weight: bold\">(</span><span style=\"color: #808000; text-decoration-color: #808000\">prompt_tokens</span>=<span style=\"color: #008080; text-decoration-color: #008080; font-weight: bold\">551</span>, <span style=\"color: #808000; text-decoration-color: #808000\">completion_tokens</span>=<span style=\"color: #008080; text-decoration-color: #008080; font-weight: bold\">106</span><span style=\"font-weight: bold\">)</span>,\n",
       "            <span style=\"color: #808000; text-decoration-color: #808000\">metadata</span>=<span style=\"font-weight: bold\">{}</span>,\n",
       "            <span style=\"color: #808000; text-decoration-color: #808000\">content</span>=<span style=\"color: #008000; text-decoration-color: #008000\">'The revised poem effectively bridges the initial vivid imagery of autumn\\'s natural beauty </span>\n",
       "<span style=\"color: #008000; text-decoration-color: #008000\">with the cozy experiences it brings. The transition from \"vibrant attire\" to \"harvests of plenty\" provides a smooth</span>\n",
       "<span style=\"color: #008000; text-decoration-color: #008000\">connection between the themes. The inclusion of \"Apple-scented breezes\" further enriches the sensory experience, </span>\n",
       "<span style=\"color: #008000; text-decoration-color: #008000\">adding depth to the narrative.\\n\\nYour adjustments enhance the poem\\'s flow, and the continuity between the stanzas</span>\n",
       "<span style=\"color: #008000; text-decoration-color: #008000\">is now more cohesive while still capturing the warm, reflective essence of the fall season.\\n\\nAPPROVE'</span>,\n",
       "            <span style=\"color: #808000; text-decoration-color: #808000\">type</span>=<span style=\"color: #008000; text-decoration-color: #008000\">'TextMessage'</span>\n",
       "        <span style=\"font-weight: bold\">)</span>\n",
       "    <span style=\"font-weight: bold\">]</span>,\n",
       "    <span style=\"color: #808000; text-decoration-color: #808000\">stop_reason</span>=<span style=\"color: #008000; text-decoration-color: #008000\">\"Text 'APPROVE' mentioned\"</span>\n",
       "<span style=\"font-weight: bold\">)</span>\n",
       "</pre>\n"
      ],
      "text/plain": [
       "\u001b[1;35mTaskResult\u001b[0m\u001b[1m(\u001b[0m\n",
       "    \u001b[33mmessages\u001b[0m=\u001b[1m[\u001b[0m\n",
       "        \u001b[1;35mTextMessage\u001b[0m\u001b[1m(\u001b[0m\n",
       "            \u001b[33msource\u001b[0m=\u001b[32m'user'\u001b[0m,\n",
       "            \u001b[33mmodels_usage\u001b[0m=\u001b[3;35mNone\u001b[0m,\n",
       "            \u001b[33mmetadata\u001b[0m=\u001b[1m{\u001b[0m\u001b[1m}\u001b[0m,\n",
       "            \u001b[33mcontent\u001b[0m=\u001b[32m'Write a short poem about the fall season.'\u001b[0m,\n",
       "            \u001b[33mtype\u001b[0m=\u001b[32m'TextMessage'\u001b[0m\n",
       "        \u001b[1m)\u001b[0m,\n",
       "        \u001b[1;35mTextMessage\u001b[0m\u001b[1m(\u001b[0m\n",
       "            \u001b[33msource\u001b[0m=\u001b[32m'writer'\u001b[0m,\n",
       "            \u001b[33mmodels_usage\u001b[0m=\u001b[1;35mRequestUsage\u001b[0m\u001b[1m(\u001b[0m\u001b[33mprompt_tokens\u001b[0m=\u001b[1;36m28\u001b[0m, \u001b[33mcompletion_tokens\u001b[0m=\u001b[1;36m125\u001b[0m\u001b[1m)\u001b[0m,\n",
       "            \u001b[33mmetadata\u001b[0m=\u001b[1m{\u001b[0m\u001b[1m}\u001b[0m,\n",
       "            \u001b[33mcontent\u001b[0m=\u001b[32m\"Golden\u001b[0m\u001b[32m leaves dance in the crisp, cool air,  \\nWhispering secrets only autumn can share.  \u001b[0m\n",
       "\u001b[32m\\nPumpkins adorn every doorstep and lane,  \\nAs harvests of plenty are gathered again.  \\n\\nThe sky stretches wide \u001b[0m\n",
       "\u001b[32min a soft, warm hue,  \\nWhile gentle winds carry sweet scents anew.  \\nSweaters embrace us in comforting folds,  \u001b[0m\n",
       "\u001b[32m\\nAs stories by the fireside are lovingly told.  \\n\\nNature's quilt unfolds in russet and gold,  \\nA tapestry of \u001b[0m\n",
       "\u001b[32mbeauty for all to behold.  \\nIn fall's fleeting moments, hearts find their pause,  \\nIn the season's embrace, just \u001b[0m\n",
       "\u001b[32mbecause.  \"\u001b[0m,\n",
       "            \u001b[33mtype\u001b[0m=\u001b[32m'TextMessage'\u001b[0m\n",
       "        \u001b[1m)\u001b[0m,\n",
       "        \u001b[1;35mTextMessage\u001b[0m\u001b[1m(\u001b[0m\n",
       "            \u001b[33msource\u001b[0m=\u001b[32m'critic'\u001b[0m,\n",
       "            \u001b[33mmodels_usage\u001b[0m=\u001b[1;35mRequestUsage\u001b[0m\u001b[1m(\u001b[0m\u001b[33mprompt_tokens\u001b[0m=\u001b[1;36m170\u001b[0m, \u001b[33mcompletion_tokens\u001b[0m=\u001b[1;36m179\u001b[0m\u001b[1m)\u001b[0m,\n",
       "            \u001b[33mmetadata\u001b[0m=\u001b[1m{\u001b[0m\u001b[1m}\u001b[0m,\n",
       "            \u001b[33mcontent\u001b[0m=\u001b[32m'Your poem beautifully captures the essence of fall, painting vivid imagery of the season with \u001b[0m\n",
       "\u001b[32mits colors and activities. The choice of words like \"golden leaves,\" \"crisp, cool air,\" and \"russet and gold\" \u001b[0m\n",
       "\u001b[32maligns wonderfully with the theme. The structure flows seamlessly, with each stanza highlighting different aspects \u001b[0m\n",
       "\u001b[32mof autumn, from nature to personal experiences.\\n\\nConsider placing a slightly stronger emphasis on the transition \u001b[0m\n",
       "\u001b[32mfrom the first to the second stanza to ensure continuity in the imagery and feelings being portrayed. Perhaps \u001b[0m\n",
       "\u001b[32mintroducing a word or phrase that bridges harvest to the cozy feeling would enrich the narrative.\\n\\nThe closing \u001b[0m\n",
       "\u001b[32msentiment of \"In fall\\'s fleeting moments, hearts find their pause, In the season\\'s embrace, just because\" \u001b[0m\n",
       "\u001b[32melegantly reflects the inner reflection prompted by the fall season.\\n\\nOnce these suggestions are addressed, you \u001b[0m\n",
       "\u001b[32mshould have a well-rounded poem. Would you like to make any adjustments based on the feedback?'\u001b[0m,\n",
       "            \u001b[33mtype\u001b[0m=\u001b[32m'TextMessage'\u001b[0m\n",
       "        \u001b[1m)\u001b[0m,\n",
       "        \u001b[1;35mTextMessage\u001b[0m\u001b[1m(\u001b[0m\n",
       "            \u001b[33msource\u001b[0m=\u001b[32m'writer'\u001b[0m,\n",
       "            \u001b[33mmodels_usage\u001b[0m=\u001b[1;35mRequestUsage\u001b[0m\u001b[1m(\u001b[0m\u001b[33mprompt_tokens\u001b[0m=\u001b[1;36m342\u001b[0m, \u001b[33mcompletion_tokens\u001b[0m=\u001b[1;36m192\u001b[0m\u001b[1m)\u001b[0m,\n",
       "            \u001b[33mmetadata\u001b[0m=\u001b[1m{\u001b[0m\u001b[1m}\u001b[0m,\n",
       "            \u001b[33mcontent\u001b[0m=\u001b[32m\"Thank\u001b[0m\u001b[32m you for the thoughtful feedback. Here's a revised version that incorporates your \u001b[0m\n",
       "\u001b[32msuggestion:\\n\\nGolden leaves dance in the crisp, cool air,  \\nWhispering secrets only autumn can share.  \\nAs \u001b[0m\n",
       "\u001b[32mnature dons its vibrant attire,  \\nHarvests of plenty set hearts afire.  \\n\\nPumpkins adorn every doorstep and \u001b[0m\n",
       "\u001b[32mlane,  \\nApple-scented breezes call out once again.  \\nSweaters embrace us in comforting folds,  \\nAs stories by \u001b[0m\n",
       "\u001b[32mthe fireside are lovingly told.  \\n\\nThe sky stretches wide in a soft, warm hue,  \\nBridging the coziness felt in \u001b[0m\n",
       "\u001b[32mall we do.  \\nNature's quilt unfolds in russet and gold,  \\nA tapestry of beauty for all to behold.  \\n\\nIn fall's \u001b[0m\n",
       "\u001b[32mfleeting moments, hearts find their pause,  \\nIn the season's embrace, just because.  \\n\\nI hope this version \u001b[0m\n",
       "\u001b[32mbetter bridges the ideas between stanzas while maintaining the poem's essence. Let me know if further changes are \u001b[0m\n",
       "\u001b[32mneeded!\"\u001b[0m,\n",
       "            \u001b[33mtype\u001b[0m=\u001b[32m'TextMessage'\u001b[0m\n",
       "        \u001b[1m)\u001b[0m,\n",
       "        \u001b[1;35mTextMessage\u001b[0m\u001b[1m(\u001b[0m\n",
       "            \u001b[33msource\u001b[0m=\u001b[32m'critic'\u001b[0m,\n",
       "            \u001b[33mmodels_usage\u001b[0m=\u001b[1;35mRequestUsage\u001b[0m\u001b[1m(\u001b[0m\u001b[33mprompt_tokens\u001b[0m=\u001b[1;36m551\u001b[0m, \u001b[33mcompletion_tokens\u001b[0m=\u001b[1;36m106\u001b[0m\u001b[1m)\u001b[0m,\n",
       "            \u001b[33mmetadata\u001b[0m=\u001b[1m{\u001b[0m\u001b[1m}\u001b[0m,\n",
       "            \u001b[33mcontent\u001b[0m=\u001b[32m'The revised poem effectively bridges the initial vivid imagery of autumn\\'s natural beauty \u001b[0m\n",
       "\u001b[32mwith the cozy experiences it brings. The transition from \"vibrant attire\" to \"harvests of plenty\" provides a smooth\u001b[0m\n",
       "\u001b[32mconnection between the themes. The inclusion of \"Apple-scented breezes\" further enriches the sensory experience, \u001b[0m\n",
       "\u001b[32madding depth to the narrative.\\n\\nYour adjustments enhance the poem\\'s flow, and the continuity between the stanzas\u001b[0m\n",
       "\u001b[32mis now more cohesive while still capturing the warm, reflective essence of the fall season.\\n\\nAPPROVE'\u001b[0m,\n",
       "            \u001b[33mtype\u001b[0m=\u001b[32m'TextMessage'\u001b[0m\n",
       "        \u001b[1m)\u001b[0m\n",
       "    \u001b[1m]\u001b[0m,\n",
       "    \u001b[33mstop_reason\u001b[0m=\u001b[32m\"Text\u001b[0m\u001b[32m 'APPROVE' mentioned\"\u001b[0m\n",
       "\u001b[1m)\u001b[0m\n"
      ]
     },
     "metadata": {},
     "output_type": "display_data"
    }
   ],
   "source": [
    "result:TaskResult = await team.run(task=\"Write a short poem about the fall season.\")\n",
    "print(result)"
   ]
  },
  {
   "cell_type": "markdown",
   "metadata": {},
   "source": [
    "We can also use AutoGen's `Console` class to generate a more structured output.  \n",
    "\n",
    "It is important to note that a `Team`, like individual agents, maintains its state. Therefore, if the next task is unrelated to the previous one, it is generally recommended to reset the team using the `reset` method before starting a new run.  \n"
   ]
  },
  {
   "cell_type": "code",
   "execution_count": 5,
   "metadata": {},
   "outputs": [
    {
     "name": "stdout",
     "output_type": "stream",
     "text": [
      "---------- user ----------\n",
      "Write a joke about programming in Python.\n",
      "---------- writer ----------\n",
      "Why did the Python programmer break up with their string?\n",
      "\n",
      "It wasn't her type!\n",
      "---------- critic ----------\n",
      "This is a clever joke that utilizes programming terminology effectively. It plays on the concept of \"types\" in programming languages and relates it to a personal relationship, which is relatable and humorous. However, you might want to consider adding a bit more context for those unfamiliar with programming terms to make it accessible to a wider audience. Here's a suggestion:\n",
      "\n",
      "Why did the Python programmer break up with their string?\n",
      "\n",
      "They realized she wasn't their type—literally! (In Python, strings have a specific 'type' just like integers and floats.)\n",
      "\n",
      "Feel free to revise or expand upon this idea for broader engagement. \n",
      "\n",
      "Please make changes based on this feedback for approval.\n",
      "---------- writer ----------\n",
      "Why did the Python programmer break up with their string?\n",
      "\n",
      "They realized she wasn't their type—literally! In Python, strings have a different 'type' than numbers or lists, so it just wasn't going to work out.\n",
      "---------- critic ----------\n",
      "APPROVE\n"
     ]
    },
    {
     "data": {
      "text/plain": [
       "TaskResult(messages=[TextMessage(source='user', models_usage=None, metadata={}, content='Write a joke about programming in Python.', type='TextMessage'), TextMessage(source='writer', models_usage=RequestUsage(prompt_tokens=27, completion_tokens=17), metadata={}, content=\"Why did the Python programmer break up with their string?\\n\\nIt wasn't her type!\", type='TextMessage'), TextMessage(source='critic', models_usage=RequestUsage(prompt_tokens=61, completion_tokens=131), metadata={}, content='This is a clever joke that utilizes programming terminology effectively. It plays on the concept of \"types\" in programming languages and relates it to a personal relationship, which is relatable and humorous. However, you might want to consider adding a bit more context for those unfamiliar with programming terms to make it accessible to a wider audience. Here\\'s a suggestion:\\n\\nWhy did the Python programmer break up with their string?\\n\\nThey realized she wasn\\'t their type—literally! (In Python, strings have a specific \\'type\\' just like integers and floats.)\\n\\nFeel free to revise or expand upon this idea for broader engagement. \\n\\nPlease make changes based on this feedback for approval.', type='TextMessage'), TextMessage(source='writer', models_usage=RequestUsage(prompt_tokens=185, completion_tokens=46), metadata={}, content=\"Why did the Python programmer break up with their string?\\n\\nThey realized she wasn't their type—literally! In Python, strings have a different 'type' than numbers or lists, so it just wasn't going to work out.\", type='TextMessage'), TextMessage(source='critic', models_usage=RequestUsage(prompt_tokens=248, completion_tokens=4), metadata={}, content='APPROVE', type='TextMessage')], stop_reason=\"Text 'APPROVE' mentioned\")"
      ]
     },
     "execution_count": 5,
     "metadata": {},
     "output_type": "execute_result"
    }
   ],
   "source": [
    "await team.reset()  # Reset the team for a new task.\n",
    "await Console(\n",
    "    team.run_stream(task=\"Write a joke about programming in Python.\")\n",
    ")  "
   ]
  },
  {
   "cell_type": "markdown",
   "metadata": {},
   "source": [
    "Together with `TextTermination`is it possible to interrupt a team any time using [ExternalTermination](https://microsoft.github.io/autogen/stable/user-guide/agentchat-user-guide/tutorial/teams.html#stopping-a-team) \n",
    "or one of the [other](https://microsoft.github.io/autogen/stable/user-guide/agentchat-user-guide/tutorial/termination.html#termination) termination conditions."
   ]
  }
 ],
 "metadata": {
  "kernelspec": {
   "display_name": ".venv",
   "language": "python",
   "name": "python3"
  },
  "language_info": {
   "codemirror_mode": {
    "name": "ipython",
    "version": 3
   },
   "file_extension": ".py",
   "mimetype": "text/x-python",
   "name": "python",
   "nbconvert_exporter": "python",
   "pygments_lexer": "ipython3",
   "version": "3.12.9"
  }
 },
 "nbformat": 4,
 "nbformat_minor": 2
}
