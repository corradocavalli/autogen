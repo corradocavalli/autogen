{
 "cells": [
  {
   "cell_type": "markdown",
   "metadata": {},
   "source": [
    "## Teams\n",
    "In Autogen a group of two or more agents  working together is called a `Team`.\n",
    "Autogen also offers differents pre-made agent workflows, let's see the simplest one called `RoundRobinGroupChat`\n",
    "\n",
    "### RoundRobinGroupChat\n",
    "Its a simple workflow where all partecipant agents share the same context and take turns responding in a round-robin fashion."
   ]
  },
  {
   "cell_type": "code",
   "execution_count": null,
   "metadata": {},
   "outputs": [],
   "source": [
    "import sys\n",
    "sys.path.append(\"..\")\n",
    "from model_clients.azure import get_model\n",
    "from autogen_agentchat.agents import AssistantAgent\n",
    "from autogen_agentchat.base import TaskResult\n",
    "from autogen_agentchat.conditions import TextMentionTermination\n",
    "from autogen_agentchat.teams import RoundRobinGroupChat\n",
    "from autogen_agentchat.ui import Console\n",
    "from rich import print\n"
   ]
  },
  {
   "cell_type": "markdown",
   "metadata": {},
   "source": [
    "In the following cell we create the two agents that will make up the team, one is in charge of writing a poem, the other to evaluate it."
   ]
  },
  {
   "cell_type": "code",
   "execution_count": 3,
   "metadata": {},
   "outputs": [],
   "source": [
    "# Create the primary agent.\n",
    "writer_agent = AssistantAgent(\n",
    "    \"writer\",\n",
    "    model_client=get_model(),\n",
    "    system_message=\"You are a helpful AI assistant.\",\n",
    ")\n",
    "\n",
    "# Create the critic agent.\n",
    "critic_agent = AssistantAgent(\n",
    "    \"critic\",\n",
    "    model_client=get_model(),\n",
    "    system_message=\"Provide constructive feedback. Respond with 'APPROVE' only when your feedbacks are addressed.\",\n",
    ")"
   ]
  },
  {
   "cell_type": "markdown",
   "metadata": {},
   "source": [
    "We now put the two individual agent in contact with each other using a `RoundRobinGroupChat` that let execution flow go from \n",
    "the writer agent to the critic agent and then back to writer agent and so on.\n",
    "Of course we need a way to stop this ping-pong that's why we create a text_termination rule, in this case the rule will be\n",
    "triggered when the word \"APPROVE\" will appear in the agent response."
   ]
  },
  {
   "cell_type": "code",
   "execution_count": 11,
   "metadata": {},
   "outputs": [],
   "source": [
    "# Define a termination condition that stops the task if the critic approves.\n",
    "text_termination = TextMentionTermination(\"APPROVE\")\n",
    "\n",
    "# Create a team with the two agents and the termination condition.\n",
    "team = RoundRobinGroupChat(\n",
    "    [writer_agent, critic_agent], termination_condition=text_termination\n",
    ")"
   ]
  },
  {
   "cell_type": "markdown",
   "metadata": {},
   "source": [
    "It's now time to run the Team using the `run` method."
   ]
  },
  {
   "cell_type": "code",
   "execution_count": 5,
   "metadata": {},
   "outputs": [
    {
     "data": {
      "text/html": [
       "<pre style=\"white-space:pre;overflow-x:auto;line-height:normal;font-family:Menlo,'DejaVu Sans Mono',consolas,'Courier New',monospace\"><span style=\"color: #800080; text-decoration-color: #800080; font-weight: bold\">TaskResult</span><span style=\"font-weight: bold\">(</span>\n",
       "    <span style=\"color: #808000; text-decoration-color: #808000\">messages</span>=<span style=\"font-weight: bold\">[</span>\n",
       "        <span style=\"color: #800080; text-decoration-color: #800080; font-weight: bold\">TextMessage</span><span style=\"font-weight: bold\">(</span>\n",
       "            <span style=\"color: #808000; text-decoration-color: #808000\">source</span>=<span style=\"color: #008000; text-decoration-color: #008000\">'user'</span>,\n",
       "            <span style=\"color: #808000; text-decoration-color: #808000\">models_usage</span>=<span style=\"color: #800080; text-decoration-color: #800080; font-style: italic\">None</span>,\n",
       "            <span style=\"color: #808000; text-decoration-color: #808000\">metadata</span>=<span style=\"font-weight: bold\">{}</span>,\n",
       "            <span style=\"color: #808000; text-decoration-color: #808000\">content</span>=<span style=\"color: #008000; text-decoration-color: #008000\">'Write a short poem about the fall season.'</span>,\n",
       "            <span style=\"color: #808000; text-decoration-color: #808000\">type</span>=<span style=\"color: #008000; text-decoration-color: #008000\">'TextMessage'</span>\n",
       "        <span style=\"font-weight: bold\">)</span>,\n",
       "        <span style=\"color: #800080; text-decoration-color: #800080; font-weight: bold\">TextMessage</span><span style=\"font-weight: bold\">(</span>\n",
       "            <span style=\"color: #808000; text-decoration-color: #808000\">source</span>=<span style=\"color: #008000; text-decoration-color: #008000\">'writer'</span>,\n",
       "            <span style=\"color: #808000; text-decoration-color: #808000\">models_usage</span>=<span style=\"color: #800080; text-decoration-color: #800080; font-weight: bold\">RequestUsage</span><span style=\"font-weight: bold\">(</span><span style=\"color: #808000; text-decoration-color: #808000\">prompt_tokens</span>=<span style=\"color: #008080; text-decoration-color: #008080; font-weight: bold\">28</span>, <span style=\"color: #808000; text-decoration-color: #808000\">completion_tokens</span>=<span style=\"color: #008080; text-decoration-color: #008080; font-weight: bold\">112</span><span style=\"font-weight: bold\">)</span>,\n",
       "            <span style=\"color: #808000; text-decoration-color: #808000\">metadata</span>=<span style=\"font-weight: bold\">{}</span>,\n",
       "            <span style=\"color: #808000; text-decoration-color: #808000\">content</span>=<span style=\"color: #008000; text-decoration-color: #008000\">\"In autumn's embrace, the earth turns gold,  \\nLeaves whisper secrets as they unfold.  \\nA </span>\n",
       "<span style=\"color: #008000; text-decoration-color: #008000\">crisp wind dances through the trees,  \\nA symphony of rustling leaves.  \\n\\nPumpkins glow with gentle light,  </span>\n",
       "<span style=\"color: #008000; text-decoration-color: #008000\">\\nHarvest moons fill the chilly night.  \\nSweaters hug as the cold draws near,  \\nIn fall's soft hues, the world </span>\n",
       "<span style=\"color: #008000; text-decoration-color: #008000\">feels clear.  \\n\\nTime slows down in the amber glow,  \\nNature's farewell in a soft tableau.  \\nIn every leaf's </span>\n",
       "<span style=\"color: #008000; text-decoration-color: #008000\">descent and flight,  \\nFall paints the world in colors bright.  \"</span>,\n",
       "            <span style=\"color: #808000; text-decoration-color: #808000\">type</span>=<span style=\"color: #008000; text-decoration-color: #008000\">'TextMessage'</span>\n",
       "        <span style=\"font-weight: bold\">)</span>,\n",
       "        <span style=\"color: #800080; text-decoration-color: #800080; font-weight: bold\">TextMessage</span><span style=\"font-weight: bold\">(</span>\n",
       "            <span style=\"color: #808000; text-decoration-color: #808000\">source</span>=<span style=\"color: #008000; text-decoration-color: #008000\">'critic'</span>,\n",
       "            <span style=\"color: #808000; text-decoration-color: #808000\">models_usage</span>=<span style=\"color: #800080; text-decoration-color: #800080; font-weight: bold\">RequestUsage</span><span style=\"font-weight: bold\">(</span><span style=\"color: #808000; text-decoration-color: #808000\">prompt_tokens</span>=<span style=\"color: #008080; text-decoration-color: #008080; font-weight: bold\">157</span>, <span style=\"color: #808000; text-decoration-color: #808000\">completion_tokens</span>=<span style=\"color: #008080; text-decoration-color: #008080; font-weight: bold\">189</span><span style=\"font-weight: bold\">)</span>,\n",
       "            <span style=\"color: #808000; text-decoration-color: #808000\">metadata</span>=<span style=\"font-weight: bold\">{}</span>,\n",
       "            <span style=\"color: #808000; text-decoration-color: #808000\">content</span>=<span style=\"color: #008000; text-decoration-color: #008000\">'This is a beautifully evocative poem that captures the essence of the fall season with vivid </span>\n",
       "<span style=\"color: #008000; text-decoration-color: #008000\">imagery and sensory details. The use of alliteration in \"autumn\\'s embrace\" and \"earth turns gold\" adds a lyrical </span>\n",
       "<span style=\"color: #008000; text-decoration-color: #008000\">quality that enhances the reading experience. The poem successfully evokes the feeling of transition and </span>\n",
       "<span style=\"color: #008000; text-decoration-color: #008000\">transformation that is characteristic of autumn, with the mention of \"rustling leaves\" and \"pumpkins glow.\" The </span>\n",
       "<span style=\"color: #008000; text-decoration-color: #008000\">structure is consistent with a clear thematic flow from beginning to end, emphasizing the natural beauty and </span>\n",
       "<span style=\"color: #008000; text-decoration-color: #008000\">tranquility of fall. \\n\\nOne suggestion would be to explore more diverse vocabulary to enhance the sensory </span>\n",
       "<span style=\"color: #008000; text-decoration-color: #008000\">experience, perhaps incorporating more visual or tactile imagery to deepen the reader\\'s connection to the poem. </span>\n",
       "<span style=\"color: #008000; text-decoration-color: #008000\">Additionally, consider experimenting with line breaks or punctuation to provide emphasis on certain phrases and </span>\n",
       "<span style=\"color: #008000; text-decoration-color: #008000\">create a rhythmical cadence.\\n\\nOverall, this is a delightful and visually appealing poem. Just a little tweak in </span>\n",
       "<span style=\"color: #008000; text-decoration-color: #008000\">the use of vocabulary and structural variety could elevate it even further.'</span>,\n",
       "            <span style=\"color: #808000; text-decoration-color: #808000\">type</span>=<span style=\"color: #008000; text-decoration-color: #008000\">'TextMessage'</span>\n",
       "        <span style=\"font-weight: bold\">)</span>,\n",
       "        <span style=\"color: #800080; text-decoration-color: #800080; font-weight: bold\">TextMessage</span><span style=\"font-weight: bold\">(</span>\n",
       "            <span style=\"color: #808000; text-decoration-color: #808000\">source</span>=<span style=\"color: #008000; text-decoration-color: #008000\">'writer'</span>,\n",
       "            <span style=\"color: #808000; text-decoration-color: #808000\">models_usage</span>=<span style=\"color: #800080; text-decoration-color: #800080; font-weight: bold\">RequestUsage</span><span style=\"font-weight: bold\">(</span><span style=\"color: #808000; text-decoration-color: #808000\">prompt_tokens</span>=<span style=\"color: #008080; text-decoration-color: #008080; font-weight: bold\">339</span>, <span style=\"color: #808000; text-decoration-color: #808000\">completion_tokens</span>=<span style=\"color: #008080; text-decoration-color: #008080; font-weight: bold\">154</span><span style=\"font-weight: bold\">)</span>,\n",
       "            <span style=\"color: #808000; text-decoration-color: #808000\">metadata</span>=<span style=\"font-weight: bold\">{}</span>,\n",
       "            <span style=\"color: #808000; text-decoration-color: #808000\">content</span>=<span style=\"color: #008000; text-decoration-color: #008000\">\"Thank you for the thoughtful feedback! Here's a revised version of the poem that incorporates </span>\n",
       "<span style=\"color: #008000; text-decoration-color: #008000\">your suggestions:\\n\\nIn autumn's warm embrace, the earth turns gold,  \\nLeaves weave whispered tales as they </span>\n",
       "<span style=\"color: #008000; text-decoration-color: #008000\">unfold.  \\nA brisk breeze waltzes through ancient trees,  \\nA symphony of cascading leaves.  \\n\\nPumpkins gleam </span>\n",
       "<span style=\"color: #008000; text-decoration-color: #008000\">with soft, flickering light,  \\nHarvest moons fill the crisp, quiet night.  \\nSweaters surround as the chill draws </span>\n",
       "<span style=\"color: #008000; text-decoration-color: #008000\">near,  \\nIn fall's rich tones, the world feels clear.  \\n\\nTime slows in the amber's gentle glow,  \\nNature’s </span>\n",
       "<span style=\"color: #008000; text-decoration-color: #008000\">farewell staged in a tender show.  \\nIn each leaf's descent, a graceful flight,  \\nFall paints the earth with hues </span>\n",
       "<span style=\"color: #008000; text-decoration-color: #008000\">so bright.  \\n\\nLet me know if this works for you!\"</span>,\n",
       "            <span style=\"color: #808000; text-decoration-color: #808000\">type</span>=<span style=\"color: #008000; text-decoration-color: #008000\">'TextMessage'</span>\n",
       "        <span style=\"font-weight: bold\">)</span>,\n",
       "        <span style=\"color: #800080; text-decoration-color: #800080; font-weight: bold\">TextMessage</span><span style=\"font-weight: bold\">(</span>\n",
       "            <span style=\"color: #808000; text-decoration-color: #808000\">source</span>=<span style=\"color: #008000; text-decoration-color: #008000\">'critic'</span>,\n",
       "            <span style=\"color: #808000; text-decoration-color: #808000\">models_usage</span>=<span style=\"color: #800080; text-decoration-color: #800080; font-weight: bold\">RequestUsage</span><span style=\"font-weight: bold\">(</span><span style=\"color: #808000; text-decoration-color: #808000\">prompt_tokens</span>=<span style=\"color: #008080; text-decoration-color: #008080; font-weight: bold\">510</span>, <span style=\"color: #808000; text-decoration-color: #808000\">completion_tokens</span>=<span style=\"color: #008080; text-decoration-color: #008080; font-weight: bold\">180</span><span style=\"font-weight: bold\">)</span>,\n",
       "            <span style=\"color: #808000; text-decoration-color: #808000\">metadata</span>=<span style=\"font-weight: bold\">{}</span>,\n",
       "            <span style=\"color: #808000; text-decoration-color: #808000\">content</span>=<span style=\"color: #008000; text-decoration-color: #008000\">'The revised poem shows improvement with the richer vocabulary choices, capturing the sensory </span>\n",
       "<span style=\"color: #008000; text-decoration-color: #008000\">essence of autumn beautifully. The use of words like \"warm embrace,\" \"whispered tales,\" and \"waltzes through </span>\n",
       "<span style=\"color: #008000; text-decoration-color: #008000\">ancient trees\" adds depth and elegance, enhancing the imagery and emotional resonance. The alteration from \"gentle </span>\n",
       "<span style=\"color: #008000; text-decoration-color: #008000\">light\" to \"soft, flickering light\" introduces a delicate complexity to the description that draws readers further </span>\n",
       "<span style=\"color: #008000; text-decoration-color: #008000\">into the moment.\\n\\nYour adjustments to punctuation and phrasing provide a smoother rhythm, particularly with the </span>\n",
       "<span style=\"color: #008000; text-decoration-color: #008000\">line \"In fall\\'s rich tones, the world feels clear.\" The slight shift in vocabulary helps the poem maintain its </span>\n",
       "<span style=\"color: #008000; text-decoration-color: #008000\">consistent and captivating flow. The poem still captures the classic fall imagery, while also offering new </span>\n",
       "<span style=\"color: #008000; text-decoration-color: #008000\">dimensions with its refined language.\\n\\nOverall, the changes address the feedback by enhancing the sensory </span>\n",
       "<span style=\"color: #008000; text-decoration-color: #008000\">experience and maintaining the captivating essence of autumn. Congratulations on a job well done! APPROVE.'</span>,\n",
       "            <span style=\"color: #808000; text-decoration-color: #808000\">type</span>=<span style=\"color: #008000; text-decoration-color: #008000\">'TextMessage'</span>\n",
       "        <span style=\"font-weight: bold\">)</span>\n",
       "    <span style=\"font-weight: bold\">]</span>,\n",
       "    <span style=\"color: #808000; text-decoration-color: #808000\">stop_reason</span>=<span style=\"color: #008000; text-decoration-color: #008000\">\"Text 'APPROVE' mentioned\"</span>\n",
       "<span style=\"font-weight: bold\">)</span>\n",
       "</pre>\n"
      ],
      "text/plain": [
       "\u001b[1;35mTaskResult\u001b[0m\u001b[1m(\u001b[0m\n",
       "    \u001b[33mmessages\u001b[0m=\u001b[1m[\u001b[0m\n",
       "        \u001b[1;35mTextMessage\u001b[0m\u001b[1m(\u001b[0m\n",
       "            \u001b[33msource\u001b[0m=\u001b[32m'user'\u001b[0m,\n",
       "            \u001b[33mmodels_usage\u001b[0m=\u001b[3;35mNone\u001b[0m,\n",
       "            \u001b[33mmetadata\u001b[0m=\u001b[1m{\u001b[0m\u001b[1m}\u001b[0m,\n",
       "            \u001b[33mcontent\u001b[0m=\u001b[32m'Write a short poem about the fall season.'\u001b[0m,\n",
       "            \u001b[33mtype\u001b[0m=\u001b[32m'TextMessage'\u001b[0m\n",
       "        \u001b[1m)\u001b[0m,\n",
       "        \u001b[1;35mTextMessage\u001b[0m\u001b[1m(\u001b[0m\n",
       "            \u001b[33msource\u001b[0m=\u001b[32m'writer'\u001b[0m,\n",
       "            \u001b[33mmodels_usage\u001b[0m=\u001b[1;35mRequestUsage\u001b[0m\u001b[1m(\u001b[0m\u001b[33mprompt_tokens\u001b[0m=\u001b[1;36m28\u001b[0m, \u001b[33mcompletion_tokens\u001b[0m=\u001b[1;36m112\u001b[0m\u001b[1m)\u001b[0m,\n",
       "            \u001b[33mmetadata\u001b[0m=\u001b[1m{\u001b[0m\u001b[1m}\u001b[0m,\n",
       "            \u001b[33mcontent\u001b[0m=\u001b[32m\"In\u001b[0m\u001b[32m autumn's embrace, the earth turns gold,  \\nLeaves whisper secrets as they unfold.  \\nA \u001b[0m\n",
       "\u001b[32mcrisp wind dances through the trees,  \\nA symphony of rustling leaves.  \\n\\nPumpkins glow with gentle light,  \u001b[0m\n",
       "\u001b[32m\\nHarvest moons fill the chilly night.  \\nSweaters hug as the cold draws near,  \\nIn fall's soft hues, the world \u001b[0m\n",
       "\u001b[32mfeels clear.  \\n\\nTime slows down in the amber glow,  \\nNature's farewell in a soft tableau.  \\nIn every leaf's \u001b[0m\n",
       "\u001b[32mdescent and flight,  \\nFall paints the world in colors bright.  \"\u001b[0m,\n",
       "            \u001b[33mtype\u001b[0m=\u001b[32m'TextMessage'\u001b[0m\n",
       "        \u001b[1m)\u001b[0m,\n",
       "        \u001b[1;35mTextMessage\u001b[0m\u001b[1m(\u001b[0m\n",
       "            \u001b[33msource\u001b[0m=\u001b[32m'critic'\u001b[0m,\n",
       "            \u001b[33mmodels_usage\u001b[0m=\u001b[1;35mRequestUsage\u001b[0m\u001b[1m(\u001b[0m\u001b[33mprompt_tokens\u001b[0m=\u001b[1;36m157\u001b[0m, \u001b[33mcompletion_tokens\u001b[0m=\u001b[1;36m189\u001b[0m\u001b[1m)\u001b[0m,\n",
       "            \u001b[33mmetadata\u001b[0m=\u001b[1m{\u001b[0m\u001b[1m}\u001b[0m,\n",
       "            \u001b[33mcontent\u001b[0m=\u001b[32m'This is a beautifully evocative poem that captures the essence of the fall season with vivid \u001b[0m\n",
       "\u001b[32mimagery and sensory details. The use of alliteration in \"autumn\\'s embrace\" and \"earth turns gold\" adds a lyrical \u001b[0m\n",
       "\u001b[32mquality that enhances the reading experience. The poem successfully evokes the feeling of transition and \u001b[0m\n",
       "\u001b[32mtransformation that is characteristic of autumn, with the mention of \"rustling leaves\" and \"pumpkins glow.\" The \u001b[0m\n",
       "\u001b[32mstructure is consistent with a clear thematic flow from beginning to end, emphasizing the natural beauty and \u001b[0m\n",
       "\u001b[32mtranquility of fall. \\n\\nOne suggestion would be to explore more diverse vocabulary to enhance the sensory \u001b[0m\n",
       "\u001b[32mexperience, perhaps incorporating more visual or tactile imagery to deepen the reader\\'s connection to the poem. \u001b[0m\n",
       "\u001b[32mAdditionally, consider experimenting with line breaks or punctuation to provide emphasis on certain phrases and \u001b[0m\n",
       "\u001b[32mcreate a rhythmical cadence.\\n\\nOverall, this is a delightful and visually appealing poem. Just a little tweak in \u001b[0m\n",
       "\u001b[32mthe use of vocabulary and structural variety could elevate it even further.'\u001b[0m,\n",
       "            \u001b[33mtype\u001b[0m=\u001b[32m'TextMessage'\u001b[0m\n",
       "        \u001b[1m)\u001b[0m,\n",
       "        \u001b[1;35mTextMessage\u001b[0m\u001b[1m(\u001b[0m\n",
       "            \u001b[33msource\u001b[0m=\u001b[32m'writer'\u001b[0m,\n",
       "            \u001b[33mmodels_usage\u001b[0m=\u001b[1;35mRequestUsage\u001b[0m\u001b[1m(\u001b[0m\u001b[33mprompt_tokens\u001b[0m=\u001b[1;36m339\u001b[0m, \u001b[33mcompletion_tokens\u001b[0m=\u001b[1;36m154\u001b[0m\u001b[1m)\u001b[0m,\n",
       "            \u001b[33mmetadata\u001b[0m=\u001b[1m{\u001b[0m\u001b[1m}\u001b[0m,\n",
       "            \u001b[33mcontent\u001b[0m=\u001b[32m\"Thank\u001b[0m\u001b[32m you for the thoughtful feedback! Here's a revised version of the poem that incorporates \u001b[0m\n",
       "\u001b[32myour suggestions:\\n\\nIn autumn's warm embrace, the earth turns gold,  \\nLeaves weave whispered tales as they \u001b[0m\n",
       "\u001b[32munfold.  \\nA brisk breeze waltzes through ancient trees,  \\nA symphony of cascading leaves.  \\n\\nPumpkins gleam \u001b[0m\n",
       "\u001b[32mwith soft, flickering light,  \\nHarvest moons fill the crisp, quiet night.  \\nSweaters surround as the chill draws \u001b[0m\n",
       "\u001b[32mnear,  \\nIn fall's rich tones, the world feels clear.  \\n\\nTime slows in the amber's gentle glow,  \\nNature’s \u001b[0m\n",
       "\u001b[32mfarewell staged in a tender show.  \\nIn each leaf's descent, a graceful flight,  \\nFall paints the earth with hues \u001b[0m\n",
       "\u001b[32mso bright.  \\n\\nLet me know if this works for you!\"\u001b[0m,\n",
       "            \u001b[33mtype\u001b[0m=\u001b[32m'TextMessage'\u001b[0m\n",
       "        \u001b[1m)\u001b[0m,\n",
       "        \u001b[1;35mTextMessage\u001b[0m\u001b[1m(\u001b[0m\n",
       "            \u001b[33msource\u001b[0m=\u001b[32m'critic'\u001b[0m,\n",
       "            \u001b[33mmodels_usage\u001b[0m=\u001b[1;35mRequestUsage\u001b[0m\u001b[1m(\u001b[0m\u001b[33mprompt_tokens\u001b[0m=\u001b[1;36m510\u001b[0m, \u001b[33mcompletion_tokens\u001b[0m=\u001b[1;36m180\u001b[0m\u001b[1m)\u001b[0m,\n",
       "            \u001b[33mmetadata\u001b[0m=\u001b[1m{\u001b[0m\u001b[1m}\u001b[0m,\n",
       "            \u001b[33mcontent\u001b[0m=\u001b[32m'The revised poem shows improvement with the richer vocabulary choices, capturing the sensory \u001b[0m\n",
       "\u001b[32messence of autumn beautifully. The use of words like \"warm embrace,\" \"whispered tales,\" and \"waltzes through \u001b[0m\n",
       "\u001b[32mancient trees\" adds depth and elegance, enhancing the imagery and emotional resonance. The alteration from \"gentle \u001b[0m\n",
       "\u001b[32mlight\" to \"soft, flickering light\" introduces a delicate complexity to the description that draws readers further \u001b[0m\n",
       "\u001b[32minto the moment.\\n\\nYour adjustments to punctuation and phrasing provide a smoother rhythm, particularly with the \u001b[0m\n",
       "\u001b[32mline \"In fall\\'s rich tones, the world feels clear.\" The slight shift in vocabulary helps the poem maintain its \u001b[0m\n",
       "\u001b[32mconsistent and captivating flow. The poem still captures the classic fall imagery, while also offering new \u001b[0m\n",
       "\u001b[32mdimensions with its refined language.\\n\\nOverall, the changes address the feedback by enhancing the sensory \u001b[0m\n",
       "\u001b[32mexperience and maintaining the captivating essence of autumn. Congratulations on a job well done! APPROVE.'\u001b[0m,\n",
       "            \u001b[33mtype\u001b[0m=\u001b[32m'TextMessage'\u001b[0m\n",
       "        \u001b[1m)\u001b[0m\n",
       "    \u001b[1m]\u001b[0m,\n",
       "    \u001b[33mstop_reason\u001b[0m=\u001b[32m\"Text\u001b[0m\u001b[32m 'APPROVE' mentioned\"\u001b[0m\n",
       "\u001b[1m)\u001b[0m\n"
      ]
     },
     "metadata": {},
     "output_type": "display_data"
    }
   ],
   "source": [
    "result:TaskResult = await team.run(task=\"Write a short poem about the fall season.\")\n",
    "print(result)"
   ]
  },
  {
   "cell_type": "markdown",
   "metadata": {},
   "source": [
    "We can also use Autogen's `Console`class to see a more structured output.  \n",
    "Note that a Team (as Agents) keep their state, so to start a new run from scratch it is usually a good idea\n",
    " to reset the team if the next task is not related to the previous task with the `reset` method."
   ]
  },
  {
   "cell_type": "code",
   "execution_count": 10,
   "metadata": {},
   "outputs": [
    {
     "name": "stdout",
     "output_type": "stream",
     "text": [
      "---------- user ----------\n",
      "Write a joke about programming in Python.\n",
      "---------- writer ----------\n",
      "Why do Python programmers prefer snakes over the keyboard?\n",
      "\n",
      "Because they know how to squeeze and eliminate bugs!\n",
      "---------- critic ----------\n",
      "This joke cleverly ties the nature of Python as a programming language to the characteristics of actual snakes, which is fitting considering the language is named after Monty Python and not the snake. However, the punchline might be slightly confusing as it's not immediately clear why squeezing would eliminate bugs. For improvement, you might consider a more direct programming-related concept related to snakes or Python.\n",
      "\n",
      "For example:\n",
      "\"Why do Python programmers always carry a snake with them?\n",
      "Because it's really good at debugging their code!\"\n",
      "\n",
      "This keeps the snake imagery while directly tying it to a programming concept. Let me know if you make changes, and I'll be happy to review them!\n",
      "---------- writer ----------\n",
      "Thank you for your feedback! Here's a revised version:\n",
      "\n",
      "Why do Python programmers keep a pet snake at their desks?\n",
      "\n",
      "Because it helps them squeeze out bugs in their code!\n",
      "---------- critic ----------\n",
      "This revised joke provides a clearer connection between the theme of snakes and the debugging process, making it easier to understand and appreciate. The imagery is creative and ties well to the theme of programming in Python. \n",
      "\n",
      "APPROVE\n"
     ]
    },
    {
     "data": {
      "text/plain": [
       "TaskResult(messages=[TextMessage(source='user', models_usage=None, metadata={}, content='Write a joke about programming in Python.', type='TextMessage'), TextMessage(source='writer', models_usage=RequestUsage(prompt_tokens=27, completion_tokens=21), metadata={}, content='Why do Python programmers prefer snakes over the keyboard?\\n\\nBecause they know how to squeeze and eliminate bugs!', type='TextMessage'), TextMessage(source='critic', models_usage=RequestUsage(prompt_tokens=65, completion_tokens=129), metadata={}, content='This joke cleverly ties the nature of Python as a programming language to the characteristics of actual snakes, which is fitting considering the language is named after Monty Python and not the snake. However, the punchline might be slightly confusing as it\\'s not immediately clear why squeezing would eliminate bugs. For improvement, you might consider a more direct programming-related concept related to snakes or Python.\\n\\nFor example:\\n\"Why do Python programmers always carry a snake with them?\\nBecause it\\'s really good at debugging their code!\"\\n\\nThis keeps the snake imagery while directly tying it to a programming concept. Let me know if you make changes, and I\\'ll be happy to review them!', type='TextMessage'), TextMessage(source='writer', models_usage=RequestUsage(prompt_tokens=187, completion_tokens=35), metadata={}, content=\"Thank you for your feedback! Here's a revised version:\\n\\nWhy do Python programmers keep a pet snake at their desks?\\n\\nBecause it helps them squeeze out bugs in their code!\", type='TextMessage'), TextMessage(source='critic', models_usage=RequestUsage(prompt_tokens=239, completion_tokens=45), metadata={}, content='This revised joke provides a clearer connection between the theme of snakes and the debugging process, making it easier to understand and appreciate. The imagery is creative and ties well to the theme of programming in Python. \\n\\nAPPROVE', type='TextMessage')], stop_reason=\"Text 'APPROVE' mentioned\")"
      ]
     },
     "execution_count": 10,
     "metadata": {},
     "output_type": "execute_result"
    }
   ],
   "source": [
    "await team.reset()  # Reset the team for a new task.\n",
    "await Console(\n",
    "    team.run_stream(task=\"Write a joke about programming in Python.\")\n",
    ")  "
   ]
  },
  {
   "cell_type": "markdown",
   "metadata": {},
   "source": [
    "Together with `TextTermination`is it possible to interrupt a team any time using [ExternalTermination](https://microsoft.github.io/autogen/stable/user-guide/agentchat-user-guide/tutorial/teams.html#stopping-a-team) \n",
    "or one of the [other](https://microsoft.github.io/autogen/stable/user-guide/agentchat-user-guide/tutorial/termination.html#termination) termination conditions."
   ]
  },
  {
   "cell_type": "markdown",
   "metadata": {},
   "source": []
  }
 ],
 "metadata": {
  "kernelspec": {
   "display_name": ".venv",
   "language": "python",
   "name": "python3"
  },
  "language_info": {
   "codemirror_mode": {
    "name": "ipython",
    "version": 3
   },
   "file_extension": ".py",
   "mimetype": "text/x-python",
   "name": "python",
   "nbconvert_exporter": "python",
   "pygments_lexer": "ipython3",
   "version": "3.12.9"
  }
 },
 "nbformat": 4,
 "nbformat_minor": 2
}
