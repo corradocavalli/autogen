{
 "cells": [
  {
   "cell_type": "markdown",
   "metadata": {},
   "source": [
    "## Teams\n",
    "In Autogen a group of two or more agents  working together is called a `Team`.  \n",
    "\n",
    "AutoGen offers differents pre-made agent workflows, let's see the simplest one called `RoundRobinGroupChat`\n",
    "\n",
    "### RoundRobinGroupChat\n",
    "Its a simple workflow where all partecipant agents share the same context and take turns responding in a round-robin fashion."
   ]
  },
  {
   "cell_type": "code",
   "execution_count": 1,
   "metadata": {},
   "outputs": [],
   "source": [
    "import sys\n",
    "sys.path.append(\"..\")\n",
    "from model_clients.azure import get_model\n",
    "from autogen_agentchat.agents import AssistantAgent\n",
    "from autogen_agentchat.base import TaskResult\n",
    "from autogen_agentchat.conditions import TextMentionTermination\n",
    "from autogen_agentchat.teams import RoundRobinGroupChat\n",
    "from autogen_agentchat.ui import Console\n",
    "from rich import print\n"
   ]
  },
  {
   "cell_type": "markdown",
   "metadata": {},
   "source": [
    "In the following cell we create the two agents that will make up the team, one is in charge of writing a poem, the other to evaluate it."
   ]
  },
  {
   "cell_type": "code",
   "execution_count": 2,
   "metadata": {},
   "outputs": [],
   "source": [
    "# Create the primary agent.\n",
    "writer_agent = AssistantAgent(\n",
    "    \"writer\",\n",
    "    model_client=get_model(),\n",
    "    system_message=\"You are a helpful AI assistant.\",\n",
    ")\n",
    "\n",
    "# Create the critic agent.\n",
    "critic_agent = AssistantAgent(\n",
    "    \"critic\",\n",
    "    model_client=get_model(),\n",
    "    system_message=\"Provide constructive feedback. Respond with 'APPROVE' only when your feedbacks are addressed.\",\n",
    ")"
   ]
  },
  {
   "cell_type": "markdown",
   "metadata": {},
   "source": [
    "We now put the two individual agent in contact with each other using a `RoundRobinGroupChat` that let execution flow go from \n",
    "the writer agent to the critic agent and then back to writer agent and so on.  \n",
    "\n",
    "Of course we need a way to stop this ping-pong that's why we create a `text_termination` rule, in this case the rule will be\n",
    "triggered when the word **APPROVE** will appear in the agent response."
   ]
  },
  {
   "cell_type": "code",
   "execution_count": 3,
   "metadata": {},
   "outputs": [],
   "source": [
    "# Define a termination condition that stops the task if the critic approves.\n",
    "text_termination = TextMentionTermination(\"APPROVE\")\n",
    "\n",
    "# Create a team with the two agents and the termination condition.\n",
    "team = RoundRobinGroupChat(\n",
    "    [writer_agent, critic_agent], termination_condition=text_termination\n",
    ")"
   ]
  },
  {
   "cell_type": "markdown",
   "metadata": {},
   "source": [
    "It's now time to run the Team using the `run` method."
   ]
  },
  {
   "cell_type": "code",
   "execution_count": 4,
   "metadata": {},
   "outputs": [
    {
     "data": {
      "text/html": [
       "<pre style=\"white-space:pre;overflow-x:auto;line-height:normal;font-family:Menlo,'DejaVu Sans Mono',consolas,'Courier New',monospace\"><span style=\"color: #800080; text-decoration-color: #800080; font-weight: bold\">TaskResult</span><span style=\"font-weight: bold\">(</span>\n",
       "    <span style=\"color: #808000; text-decoration-color: #808000\">messages</span>=<span style=\"font-weight: bold\">[</span>\n",
       "        <span style=\"color: #800080; text-decoration-color: #800080; font-weight: bold\">TextMessage</span><span style=\"font-weight: bold\">(</span>\n",
       "            <span style=\"color: #808000; text-decoration-color: #808000\">source</span>=<span style=\"color: #008000; text-decoration-color: #008000\">'user'</span>,\n",
       "            <span style=\"color: #808000; text-decoration-color: #808000\">models_usage</span>=<span style=\"color: #800080; text-decoration-color: #800080; font-style: italic\">None</span>,\n",
       "            <span style=\"color: #808000; text-decoration-color: #808000\">metadata</span>=<span style=\"font-weight: bold\">{}</span>,\n",
       "            <span style=\"color: #808000; text-decoration-color: #808000\">content</span>=<span style=\"color: #008000; text-decoration-color: #008000\">'Write a short poem about the fall season.'</span>,\n",
       "            <span style=\"color: #808000; text-decoration-color: #808000\">type</span>=<span style=\"color: #008000; text-decoration-color: #008000\">'TextMessage'</span>\n",
       "        <span style=\"font-weight: bold\">)</span>,\n",
       "        <span style=\"color: #800080; text-decoration-color: #800080; font-weight: bold\">TextMessage</span><span style=\"font-weight: bold\">(</span>\n",
       "            <span style=\"color: #808000; text-decoration-color: #808000\">source</span>=<span style=\"color: #008000; text-decoration-color: #008000\">'writer'</span>,\n",
       "            <span style=\"color: #808000; text-decoration-color: #808000\">models_usage</span>=<span style=\"color: #800080; text-decoration-color: #800080; font-weight: bold\">RequestUsage</span><span style=\"font-weight: bold\">(</span><span style=\"color: #808000; text-decoration-color: #808000\">prompt_tokens</span>=<span style=\"color: #008080; text-decoration-color: #008080; font-weight: bold\">28</span>, <span style=\"color: #808000; text-decoration-color: #808000\">completion_tokens</span>=<span style=\"color: #008080; text-decoration-color: #008080; font-weight: bold\">106</span><span style=\"font-weight: bold\">)</span>,\n",
       "            <span style=\"color: #808000; text-decoration-color: #808000\">metadata</span>=<span style=\"font-weight: bold\">{}</span>,\n",
       "            <span style=\"color: #808000; text-decoration-color: #808000\">content</span>=<span style=\"color: #008000; text-decoration-color: #008000\">\"Golden leaves cascade from trees,  \\nWhispering secrets with the breeze.  \\nCrisp air dances </span>\n",
       "<span style=\"color: #008000; text-decoration-color: #008000\">on fingertips,  \\nAs autumn's paintbrush softly dips.\\n\\nPumpkins sit with smiling beams,  \\nWhile cider warms the </span>\n",
       "<span style=\"color: #008000; text-decoration-color: #008000\">sweetest dreams.  \\nThe world adorned in hues of flame,  \\nIn fall's embrace, we're not the same.\\n\\nNature dons </span>\n",
       "<span style=\"color: #008000; text-decoration-color: #008000\">its vibrant robe,  \\nAs twilight glows across the globe.  \\nIn fall's brief kiss, the heart's unbound,  \\nWhere </span>\n",
       "<span style=\"color: #008000; text-decoration-color: #008000\">beauty in each moment's found.\"</span>,\n",
       "            <span style=\"color: #808000; text-decoration-color: #808000\">type</span>=<span style=\"color: #008000; text-decoration-color: #008000\">'TextMessage'</span>\n",
       "        <span style=\"font-weight: bold\">)</span>,\n",
       "        <span style=\"color: #800080; text-decoration-color: #800080; font-weight: bold\">TextMessage</span><span style=\"font-weight: bold\">(</span>\n",
       "            <span style=\"color: #808000; text-decoration-color: #808000\">source</span>=<span style=\"color: #008000; text-decoration-color: #008000\">'critic'</span>,\n",
       "            <span style=\"color: #808000; text-decoration-color: #808000\">models_usage</span>=<span style=\"color: #800080; text-decoration-color: #800080; font-weight: bold\">RequestUsage</span><span style=\"font-weight: bold\">(</span><span style=\"color: #808000; text-decoration-color: #808000\">prompt_tokens</span>=<span style=\"color: #008080; text-decoration-color: #008080; font-weight: bold\">151</span>, <span style=\"color: #808000; text-decoration-color: #808000\">completion_tokens</span>=<span style=\"color: #008080; text-decoration-color: #008080; font-weight: bold\">223</span><span style=\"font-weight: bold\">)</span>,\n",
       "            <span style=\"color: #808000; text-decoration-color: #808000\">metadata</span>=<span style=\"font-weight: bold\">{}</span>,\n",
       "            <span style=\"color: #808000; text-decoration-color: #808000\">content</span>=<span style=\"color: #008000; text-decoration-color: #008000\">'Your poem beautifully captures the essence of fall with vivid imagery and a warm, nostalgic </span>\n",
       "<span style=\"color: #008000; text-decoration-color: #008000\">tone. Here are a few suggestions to enhance it even further:\\n\\n1. The use of \"golden\" and \"cascade\" exemplifies </span>\n",
       "<span style=\"color: #008000; text-decoration-color: #008000\">movement and color, but consider adding another sensory detail or metaphor to deepen the scene.\\n   - Example: </span>\n",
       "<span style=\"color: #008000; text-decoration-color: #008000\">\"Golden leaves cascade like whispered songs in the twilight breeze.\"\\n\\n2. You have a lovely thematic consistency </span>\n",
       "<span style=\"color: #008000; text-decoration-color: #008000\">with \"cider warming dreams\" and \"hues of flame.\" You could extend this imagery into the final stanza to strengthen </span>\n",
       "<span style=\"color: #008000; text-decoration-color: #008000\">unity.\\n   - Example: \"Twilight\\'s glow wraps us in flame, in fall\\'s brief kiss, we\\'re not the same.\"\\n\\n3. </span>\n",
       "<span style=\"color: #008000; text-decoration-color: #008000\">Consider a slight rhythmic enhancement to achieve a smoother flow and lyrical quality.\\n   - Example: \"As autumn\\'s</span>\n",
       "<span style=\"color: #008000; text-decoration-color: #008000\">paintbrush softly tips.\"\\n\\nOverall, your poem wonderfully evokes the magic of fall. With some minor adjustments to</span>\n",
       "<span style=\"color: #008000; text-decoration-color: #008000\">flow and imagery, it can sparkle even more effectively. \\n\\nOnce these thoughts are considered, feel free to </span>\n",
       "<span style=\"color: #008000; text-decoration-color: #008000\">revise, or if you believe the initial version suits your intention best, let me know. '</span>,\n",
       "            <span style=\"color: #808000; text-decoration-color: #808000\">type</span>=<span style=\"color: #008000; text-decoration-color: #008000\">'TextMessage'</span>\n",
       "        <span style=\"font-weight: bold\">)</span>,\n",
       "        <span style=\"color: #800080; text-decoration-color: #800080; font-weight: bold\">TextMessage</span><span style=\"font-weight: bold\">(</span>\n",
       "            <span style=\"color: #808000; text-decoration-color: #808000\">source</span>=<span style=\"color: #008000; text-decoration-color: #008000\">'writer'</span>,\n",
       "            <span style=\"color: #808000; text-decoration-color: #808000\">models_usage</span>=<span style=\"color: #800080; text-decoration-color: #800080; font-weight: bold\">RequestUsage</span><span style=\"font-weight: bold\">(</span><span style=\"color: #808000; text-decoration-color: #808000\">prompt_tokens</span>=<span style=\"color: #008080; text-decoration-color: #008080; font-weight: bold\">367</span>, <span style=\"color: #808000; text-decoration-color: #808000\">completion_tokens</span>=<span style=\"color: #008080; text-decoration-color: #008080; font-weight: bold\">134</span><span style=\"font-weight: bold\">)</span>,\n",
       "            <span style=\"color: #808000; text-decoration-color: #808000\">metadata</span>=<span style=\"font-weight: bold\">{}</span>,\n",
       "            <span style=\"color: #808000; text-decoration-color: #808000\">content</span>=<span style=\"color: #008000; text-decoration-color: #008000\">\"Thank you for your thoughtful feedback and suggestions. Here's a revised version incorporating</span>\n",
       "<span style=\"color: #008000; text-decoration-color: #008000\">your ideas to enhance the imagery and rhythmic flow:\\n\\nGolden leaves cascade like whispered songs,  \\nAdorning </span>\n",
       "<span style=\"color: #008000; text-decoration-color: #008000\">trees with autumn's vibrant throngs.  \\nCrisp air dances on fingertips,  \\nAs nature's paintbrush softly </span>\n",
       "<span style=\"color: #008000; text-decoration-color: #008000\">tips.\\n\\nPumpkins sit with smiling beams,  \\nWhile cider warms our sweetest dreams.  \\nThe world adorned in hues of</span>\n",
       "<span style=\"color: #008000; text-decoration-color: #008000\">flame,  \\nIn twilight's glow, we're not the same.\\n\\nNature dons its vibrant robe,  \\nAs twilight wraps us 'round </span>\n",
       "<span style=\"color: #008000; text-decoration-color: #008000\">the globe.  \\nIn fall's brief kiss, the heart's unbound,  \\nWhere beauty in each moment's found.\"</span>,\n",
       "            <span style=\"color: #808000; text-decoration-color: #808000\">type</span>=<span style=\"color: #008000; text-decoration-color: #008000\">'TextMessage'</span>\n",
       "        <span style=\"font-weight: bold\">)</span>,\n",
       "        <span style=\"color: #800080; text-decoration-color: #800080; font-weight: bold\">TextMessage</span><span style=\"font-weight: bold\">(</span>\n",
       "            <span style=\"color: #808000; text-decoration-color: #808000\">source</span>=<span style=\"color: #008000; text-decoration-color: #008000\">'critic'</span>,\n",
       "            <span style=\"color: #808000; text-decoration-color: #808000\">models_usage</span>=<span style=\"color: #800080; text-decoration-color: #800080; font-weight: bold\">RequestUsage</span><span style=\"font-weight: bold\">(</span><span style=\"color: #808000; text-decoration-color: #808000\">prompt_tokens</span>=<span style=\"color: #008080; text-decoration-color: #008080; font-weight: bold\">518</span>, <span style=\"color: #808000; text-decoration-color: #808000\">completion_tokens</span>=<span style=\"color: #008080; text-decoration-color: #008080; font-weight: bold\">106</span><span style=\"font-weight: bold\">)</span>,\n",
       "            <span style=\"color: #808000; text-decoration-color: #808000\">metadata</span>=<span style=\"font-weight: bold\">{}</span>,\n",
       "            <span style=\"color: #808000; text-decoration-color: #808000\">content</span>=<span style=\"color: #008000; text-decoration-color: #008000\">'Your revised poem has successfully incorporated more sensory details, enhancing both the </span>\n",
       "<span style=\"color: #008000; text-decoration-color: #008000\">imagery and rhythmic flow. The addition of \"like whispered songs\" adds a lyrical quality that deepens the portrayal</span>\n",
       "<span style=\"color: #008000; text-decoration-color: #008000\">of fall. The adjustments in phrasing create a smoother and more engaging rhythm, making the poem even more </span>\n",
       "<span style=\"color: #008000; text-decoration-color: #008000\">captivating. The thematic consistency with “twilight\\'s glow” provides a cohesive and unified feel to the entire </span>\n",
       "<span style=\"color: #008000; text-decoration-color: #008000\">piece. \\n\\nOverall, your revisions have beautifully enhanced the poem while maintaining its original warmth and </span>\n",
       "<span style=\"color: #008000; text-decoration-color: #008000\">evocative imagery. Well done!\\n\\nAPPROVE'</span>,\n",
       "            <span style=\"color: #808000; text-decoration-color: #808000\">type</span>=<span style=\"color: #008000; text-decoration-color: #008000\">'TextMessage'</span>\n",
       "        <span style=\"font-weight: bold\">)</span>\n",
       "    <span style=\"font-weight: bold\">]</span>,\n",
       "    <span style=\"color: #808000; text-decoration-color: #808000\">stop_reason</span>=<span style=\"color: #008000; text-decoration-color: #008000\">\"Text 'APPROVE' mentioned\"</span>\n",
       "<span style=\"font-weight: bold\">)</span>\n",
       "</pre>\n"
      ],
      "text/plain": [
       "\u001b[1;35mTaskResult\u001b[0m\u001b[1m(\u001b[0m\n",
       "    \u001b[33mmessages\u001b[0m=\u001b[1m[\u001b[0m\n",
       "        \u001b[1;35mTextMessage\u001b[0m\u001b[1m(\u001b[0m\n",
       "            \u001b[33msource\u001b[0m=\u001b[32m'user'\u001b[0m,\n",
       "            \u001b[33mmodels_usage\u001b[0m=\u001b[3;35mNone\u001b[0m,\n",
       "            \u001b[33mmetadata\u001b[0m=\u001b[1m{\u001b[0m\u001b[1m}\u001b[0m,\n",
       "            \u001b[33mcontent\u001b[0m=\u001b[32m'Write a short poem about the fall season.'\u001b[0m,\n",
       "            \u001b[33mtype\u001b[0m=\u001b[32m'TextMessage'\u001b[0m\n",
       "        \u001b[1m)\u001b[0m,\n",
       "        \u001b[1;35mTextMessage\u001b[0m\u001b[1m(\u001b[0m\n",
       "            \u001b[33msource\u001b[0m=\u001b[32m'writer'\u001b[0m,\n",
       "            \u001b[33mmodels_usage\u001b[0m=\u001b[1;35mRequestUsage\u001b[0m\u001b[1m(\u001b[0m\u001b[33mprompt_tokens\u001b[0m=\u001b[1;36m28\u001b[0m, \u001b[33mcompletion_tokens\u001b[0m=\u001b[1;36m106\u001b[0m\u001b[1m)\u001b[0m,\n",
       "            \u001b[33mmetadata\u001b[0m=\u001b[1m{\u001b[0m\u001b[1m}\u001b[0m,\n",
       "            \u001b[33mcontent\u001b[0m=\u001b[32m\"Golden\u001b[0m\u001b[32m leaves cascade from trees,  \\nWhispering secrets with the breeze.  \\nCrisp air dances \u001b[0m\n",
       "\u001b[32mon fingertips,  \\nAs autumn's paintbrush softly dips.\\n\\nPumpkins sit with smiling beams,  \\nWhile cider warms the \u001b[0m\n",
       "\u001b[32msweetest dreams.  \\nThe world adorned in hues of flame,  \\nIn fall's embrace, we're not the same.\\n\\nNature dons \u001b[0m\n",
       "\u001b[32mits vibrant robe,  \\nAs twilight glows across the globe.  \\nIn fall's brief kiss, the heart's unbound,  \\nWhere \u001b[0m\n",
       "\u001b[32mbeauty in each moment's found.\"\u001b[0m,\n",
       "            \u001b[33mtype\u001b[0m=\u001b[32m'TextMessage'\u001b[0m\n",
       "        \u001b[1m)\u001b[0m,\n",
       "        \u001b[1;35mTextMessage\u001b[0m\u001b[1m(\u001b[0m\n",
       "            \u001b[33msource\u001b[0m=\u001b[32m'critic'\u001b[0m,\n",
       "            \u001b[33mmodels_usage\u001b[0m=\u001b[1;35mRequestUsage\u001b[0m\u001b[1m(\u001b[0m\u001b[33mprompt_tokens\u001b[0m=\u001b[1;36m151\u001b[0m, \u001b[33mcompletion_tokens\u001b[0m=\u001b[1;36m223\u001b[0m\u001b[1m)\u001b[0m,\n",
       "            \u001b[33mmetadata\u001b[0m=\u001b[1m{\u001b[0m\u001b[1m}\u001b[0m,\n",
       "            \u001b[33mcontent\u001b[0m=\u001b[32m'Your poem beautifully captures the essence of fall with vivid imagery and a warm, nostalgic \u001b[0m\n",
       "\u001b[32mtone. Here are a few suggestions to enhance it even further:\\n\\n1. The use of \"golden\" and \"cascade\" exemplifies \u001b[0m\n",
       "\u001b[32mmovement and color, but consider adding another sensory detail or metaphor to deepen the scene.\\n   - Example: \u001b[0m\n",
       "\u001b[32m\"Golden leaves cascade like whispered songs in the twilight breeze.\"\\n\\n2. You have a lovely thematic consistency \u001b[0m\n",
       "\u001b[32mwith \"cider warming dreams\" and \"hues of flame.\" You could extend this imagery into the final stanza to strengthen \u001b[0m\n",
       "\u001b[32munity.\\n   - Example: \"Twilight\\'s glow wraps us in flame, in fall\\'s brief kiss, we\\'re not the same.\"\\n\\n3. \u001b[0m\n",
       "\u001b[32mConsider a slight rhythmic enhancement to achieve a smoother flow and lyrical quality.\\n   - Example: \"As autumn\\'s\u001b[0m\n",
       "\u001b[32mpaintbrush softly tips.\"\\n\\nOverall, your poem wonderfully evokes the magic of fall. With some minor adjustments to\u001b[0m\n",
       "\u001b[32mflow and imagery, it can sparkle even more effectively. \\n\\nOnce these thoughts are considered, feel free to \u001b[0m\n",
       "\u001b[32mrevise, or if you believe the initial version suits your intention best, let me know. '\u001b[0m,\n",
       "            \u001b[33mtype\u001b[0m=\u001b[32m'TextMessage'\u001b[0m\n",
       "        \u001b[1m)\u001b[0m,\n",
       "        \u001b[1;35mTextMessage\u001b[0m\u001b[1m(\u001b[0m\n",
       "            \u001b[33msource\u001b[0m=\u001b[32m'writer'\u001b[0m,\n",
       "            \u001b[33mmodels_usage\u001b[0m=\u001b[1;35mRequestUsage\u001b[0m\u001b[1m(\u001b[0m\u001b[33mprompt_tokens\u001b[0m=\u001b[1;36m367\u001b[0m, \u001b[33mcompletion_tokens\u001b[0m=\u001b[1;36m134\u001b[0m\u001b[1m)\u001b[0m,\n",
       "            \u001b[33mmetadata\u001b[0m=\u001b[1m{\u001b[0m\u001b[1m}\u001b[0m,\n",
       "            \u001b[33mcontent\u001b[0m=\u001b[32m\"Thank\u001b[0m\u001b[32m you for your thoughtful feedback and suggestions. Here's a revised version incorporating\u001b[0m\n",
       "\u001b[32myour ideas to enhance the imagery and rhythmic flow:\\n\\nGolden leaves cascade like whispered songs,  \\nAdorning \u001b[0m\n",
       "\u001b[32mtrees with autumn's vibrant throngs.  \\nCrisp air dances on fingertips,  \\nAs nature's paintbrush softly \u001b[0m\n",
       "\u001b[32mtips.\\n\\nPumpkins sit with smiling beams,  \\nWhile cider warms our sweetest dreams.  \\nThe world adorned in hues of\u001b[0m\n",
       "\u001b[32mflame,  \\nIn twilight's glow, we're not the same.\\n\\nNature dons its vibrant robe,  \\nAs twilight wraps us 'round \u001b[0m\n",
       "\u001b[32mthe globe.  \\nIn fall's brief kiss, the heart's unbound,  \\nWhere beauty in each moment's found.\"\u001b[0m,\n",
       "            \u001b[33mtype\u001b[0m=\u001b[32m'TextMessage'\u001b[0m\n",
       "        \u001b[1m)\u001b[0m,\n",
       "        \u001b[1;35mTextMessage\u001b[0m\u001b[1m(\u001b[0m\n",
       "            \u001b[33msource\u001b[0m=\u001b[32m'critic'\u001b[0m,\n",
       "            \u001b[33mmodels_usage\u001b[0m=\u001b[1;35mRequestUsage\u001b[0m\u001b[1m(\u001b[0m\u001b[33mprompt_tokens\u001b[0m=\u001b[1;36m518\u001b[0m, \u001b[33mcompletion_tokens\u001b[0m=\u001b[1;36m106\u001b[0m\u001b[1m)\u001b[0m,\n",
       "            \u001b[33mmetadata\u001b[0m=\u001b[1m{\u001b[0m\u001b[1m}\u001b[0m,\n",
       "            \u001b[33mcontent\u001b[0m=\u001b[32m'Your revised poem has successfully incorporated more sensory details, enhancing both the \u001b[0m\n",
       "\u001b[32mimagery and rhythmic flow. The addition of \"like whispered songs\" adds a lyrical quality that deepens the portrayal\u001b[0m\n",
       "\u001b[32mof fall. The adjustments in phrasing create a smoother and more engaging rhythm, making the poem even more \u001b[0m\n",
       "\u001b[32mcaptivating. The thematic consistency with “twilight\\'s glow” provides a cohesive and unified feel to the entire \u001b[0m\n",
       "\u001b[32mpiece. \\n\\nOverall, your revisions have beautifully enhanced the poem while maintaining its original warmth and \u001b[0m\n",
       "\u001b[32mevocative imagery. Well done!\\n\\nAPPROVE'\u001b[0m,\n",
       "            \u001b[33mtype\u001b[0m=\u001b[32m'TextMessage'\u001b[0m\n",
       "        \u001b[1m)\u001b[0m\n",
       "    \u001b[1m]\u001b[0m,\n",
       "    \u001b[33mstop_reason\u001b[0m=\u001b[32m\"Text\u001b[0m\u001b[32m 'APPROVE' mentioned\"\u001b[0m\n",
       "\u001b[1m)\u001b[0m\n"
      ]
     },
     "metadata": {},
     "output_type": "display_data"
    }
   ],
   "source": [
    "result:TaskResult = await team.run(task=\"Write a short poem about the fall season.\")\n",
    "print(result)"
   ]
  },
  {
   "cell_type": "markdown",
   "metadata": {},
   "source": [
    "We can also use Autogen's `Console`class to see a more structured output.  \n",
    "\n",
    "Note that a Team (as Agents) keep their state, so to start a new run from scratch it is usually a good idea\n",
    " to reset the team if the next task is not related to the previous task with the `reset` method."
   ]
  },
  {
   "cell_type": "code",
   "execution_count": 5,
   "metadata": {},
   "outputs": [
    {
     "name": "stdout",
     "output_type": "stream",
     "text": [
      "---------- user ----------\n",
      "Write a joke about programming in Python.\n",
      "---------- writer ----------\n",
      "Why did the Python programmer break up with their string?\n",
      "\n",
      "It wasn't her type!\n",
      "---------- critic ----------\n",
      "This is a clever joke that utilizes programming terminology effectively. It plays on the concept of \"types\" in programming languages and relates it to a personal relationship, which is relatable and humorous. However, you might want to consider adding a bit more context for those unfamiliar with programming terms to make it accessible to a wider audience. Here's a suggestion:\n",
      "\n",
      "Why did the Python programmer break up with their string?\n",
      "\n",
      "They realized she wasn't their type—literally! (In Python, strings have a specific 'type' just like integers and floats.)\n",
      "\n",
      "Feel free to revise or expand upon this idea for broader engagement. \n",
      "\n",
      "Please make changes based on this feedback for approval.\n",
      "---------- writer ----------\n",
      "Why did the Python programmer break up with their string?\n",
      "\n",
      "They realized she wasn't their type—literally! In Python, strings have a different 'type' than numbers or lists, so it just wasn't going to work out.\n",
      "---------- critic ----------\n",
      "APPROVE\n"
     ]
    },
    {
     "data": {
      "text/plain": [
       "TaskResult(messages=[TextMessage(source='user', models_usage=None, metadata={}, content='Write a joke about programming in Python.', type='TextMessage'), TextMessage(source='writer', models_usage=RequestUsage(prompt_tokens=27, completion_tokens=17), metadata={}, content=\"Why did the Python programmer break up with their string?\\n\\nIt wasn't her type!\", type='TextMessage'), TextMessage(source='critic', models_usage=RequestUsage(prompt_tokens=61, completion_tokens=131), metadata={}, content='This is a clever joke that utilizes programming terminology effectively. It plays on the concept of \"types\" in programming languages and relates it to a personal relationship, which is relatable and humorous. However, you might want to consider adding a bit more context for those unfamiliar with programming terms to make it accessible to a wider audience. Here\\'s a suggestion:\\n\\nWhy did the Python programmer break up with their string?\\n\\nThey realized she wasn\\'t their type—literally! (In Python, strings have a specific \\'type\\' just like integers and floats.)\\n\\nFeel free to revise or expand upon this idea for broader engagement. \\n\\nPlease make changes based on this feedback for approval.', type='TextMessage'), TextMessage(source='writer', models_usage=RequestUsage(prompt_tokens=185, completion_tokens=46), metadata={}, content=\"Why did the Python programmer break up with their string?\\n\\nThey realized she wasn't their type—literally! In Python, strings have a different 'type' than numbers or lists, so it just wasn't going to work out.\", type='TextMessage'), TextMessage(source='critic', models_usage=RequestUsage(prompt_tokens=248, completion_tokens=4), metadata={}, content='APPROVE', type='TextMessage')], stop_reason=\"Text 'APPROVE' mentioned\")"
      ]
     },
     "execution_count": 5,
     "metadata": {},
     "output_type": "execute_result"
    }
   ],
   "source": [
    "await team.reset()  # Reset the team for a new task.\n",
    "await Console(\n",
    "    team.run_stream(task=\"Write a joke about programming in Python.\")\n",
    ")  "
   ]
  },
  {
   "cell_type": "markdown",
   "metadata": {},
   "source": [
    "Together with `TextTermination`is it possible to interrupt a team any time using [ExternalTermination](https://microsoft.github.io/autogen/stable/user-guide/agentchat-user-guide/tutorial/teams.html#stopping-a-team) \n",
    "or one of the [other](https://microsoft.github.io/autogen/stable/user-guide/agentchat-user-guide/tutorial/termination.html#termination) termination conditions."
   ]
  }
 ],
 "metadata": {
  "kernelspec": {
   "display_name": ".venv",
   "language": "python",
   "name": "python3"
  },
  "language_info": {
   "codemirror_mode": {
    "name": "ipython",
    "version": 3
   },
   "file_extension": ".py",
   "mimetype": "text/x-python",
   "name": "python",
   "nbconvert_exporter": "python",
   "pygments_lexer": "ipython3",
   "version": "3.12.9"
  }
 },
 "nbformat": 4,
 "nbformat_minor": 2
}
