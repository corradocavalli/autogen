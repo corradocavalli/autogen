{
 "cells": [
  {
   "cell_type": "markdown",
   "metadata": {},
   "source": [
    "## Selector Group Chat  \n",
    "\n",
    "AutoGen offers several predefined teams, in addition to the `RoundRobinGroupChat`. \n",
    "One example is the `Selector Group Chat`, where all agents share the same context, and an LLM is responsible for selecting the next \"speaker\" in the group. "
   ]
  },
  {
   "cell_type": "code",
   "execution_count": 1,
   "metadata": {},
   "outputs": [],
   "source": [
    "import sys\n",
    "sys.path.append(\"..\")\n",
    "\n",
    "from autogen_agentchat.agents import AssistantAgent\n",
    "from autogen_agentchat.conditions import MaxMessageTermination, TextMentionTermination\n",
    "from autogen_agentchat.teams import SelectorGroupChat\n",
    "from autogen_agentchat.ui import Console\n",
    "from model_clients.azure import get_model\n",
    "from rich import print\n",
    "import random\n",
    "\n",
    "model_client = get_model()\n"
   ]
  },
  {
   "cell_type": "markdown",
   "metadata": {},
   "source": [
    "Let's start by creating the agent in charge of deciding which agent is in charge to execute (a.k.a the group chat moderator)"
   ]
  },
  {
   "cell_type": "code",
   "execution_count": 2,
   "metadata": {},
   "outputs": [],
   "source": [
    "customer_agent = AssistantAgent(\n",
    "    \"customer_agent\",\n",
    "    model_client=model_client,\n",
    "    description=\"A bank assistant.\",\n",
    "    system_message=\"\"\"You are a bank assistant.\n",
    "    Your job is to break down complex tasks into smaller, manageable subtasks.\n",
    "\n",
    "    Your team members are:\n",
    "        account_agent: provides account ID\n",
    "        saving_account_agent: provides saving account balance\n",
    "        investment_agent: provides investment account balance\n",
    "\n",
    "    You only plan and delegate tasks - you do not execute them yourself.\n",
    "\n",
    "    When assigning tasks, use this format:\n",
    "    <agent> : <task>\n",
    "\n",
    "    After all tasks are complete,  Provide your response in a JSON format.\"\n",
    "\n",
    "    ```json{\n",
    "        \"account_id\": \"<account id>\",\n",
    "        \"saving_balance\": <saving balance>,\n",
    "        \"investment_balance\": <investment balance>,\n",
    "        \"total_balance\": <total balance>\n",
    "    }```\n",
    "\n",
    "    And, end with \"TERMINATE\".\n",
    "    \"\"\",\n",
    ")"
   ]
  },
  {
   "cell_type": "markdown",
   "metadata": {},
   "source": [
    "Now let's define the tools (aka the functions) that will be used by the agents"
   ]
  },
  {
   "cell_type": "code",
   "execution_count": 3,
   "metadata": {},
   "outputs": [],
   "source": [
    "# Define the tools used by the agents\n",
    "\n",
    "balances = {\n",
    "        \"123\": 100000.10,\n",
    "        \"456\": 200000.20,\n",
    "        \"789\": 300000.30,\n",
    "    }\n",
    "\n",
    "def get_bank_account_id() -> str:\n",
    "    \"\"\"Get the bank account ID.\"\"\"\n",
    "    id = random.choice([\"123\", \"456\", \"789\"])\n",
    "    print(f\"[red][TOOL] Bank account ID: {id}[/red]\")\n",
    "    return id\n",
    "\n",
    "def get_investment_account_balance(bank_account_id: str) -> float:\n",
    "    \"\"\"Get the investment balance of an account.\n",
    "\n",
    "    :param bank_account_id: The account ID.\n",
    "    :return: The investment balance.\n",
    "    \"\"\"    \n",
    "\n",
    "    balance = balances[bank_account_id]\n",
    "    print(f\"[green][TOOL] Investment balance: {balance}[/green]\")\n",
    "    return balance\n",
    "\n",
    "def get_saving_account_balance(bank_account_id: str) -> float:\n",
    "    \"\"\"Get the saving balance of an account.\n",
    "\n",
    "    :param bank_account_id: The account ID.\n",
    "    :return: The saving balance.\n",
    "    \"\"\"\n",
    "    balance = balances[bank_account_id]\n",
    "    print(f\"[cyan][TOOL] Saving balance: {balance}[/cyan]\")\n",
    "    return balance"
   ]
  },
  {
   "cell_type": "markdown",
   "metadata": {},
   "source": [
    "And finally the agents..."
   ]
  },
  {
   "cell_type": "code",
   "execution_count": 4,
   "metadata": {},
   "outputs": [],
   "source": [
    "account_agent = AssistantAgent(\n",
    "    \"account_agent\",\n",
    "    model_client=model_client,\n",
    "    description=\"An account agent.\",\n",
    "    tools=[get_bank_account_id],\n",
    "    system_message=\"\"\"You are an account agent who can provide account ID.\n",
    "You should always use the tool provided to generate the account balance.\n",
    "    \"\"\",  \n",
    ")\n",
    "\n",
    "investment_agent = AssistantAgent(\n",
    "    \"investment_agent\",\n",
    "    model_client=model_client,\n",
    "    description=\"An investment account agent.\",\n",
    "    tools=[get_investment_account_balance],\n",
    "    system_message=\"\"\"You are an investment account agent who can provide information about the investment account balance.\n",
    "Look at the chat history to understand the context of the conversation and the account id is in the it. Look for investment account ID.\n",
    "You should always use the tool provided to generate the account balance.\n",
    "    \"\"\", \n",
    ")\n",
    "\n",
    "saving_account_agent = AssistantAgent(\n",
    "    \"saving_account_agent\",\n",
    "    model_client=get_model(),\n",
    "    description=\"A saving account agent.\",\n",
    "    tools=[get_saving_account_balance],\n",
    "    system_message=\"\"\"You are a saving account agent who can provide information about the saving account balance.\n",
    "Look at the chat history to understand the context of the conversation and the account id is in the it. Look for Saving account ID.\n",
    "You should always use the tool provided to generate the account balance.\n",
    "    \"\"\",  \n",
    ")"
   ]
  },
  {
   "cell_type": "markdown",
   "metadata": {},
   "source": [
    "Now, we create the team, this time using a `SelectorGroupChat` consisting of the four agents we just created.  \n",
    "Please note the following:  \n",
    "\n",
    "1. We create a special prompt that allows the `customer_agent` (the chat moderator) to decide which agent will be invoked next.  \n",
    "2. To prevent the conversation from entering an infinite loop, we define two termination conditions:  \n",
    "   1. When the request is completed, indicated by the presence of **TERMINATE** in the response.  \n",
    "   2. When the number of exchanged messages exceeds 25.  \n"
   ]
  },
  {
   "cell_type": "code",
   "execution_count": 5,
   "metadata": {},
   "outputs": [],
   "source": [
    "selector_prompt = \"\"\"Select an agent to perform task.\n",
    "\n",
    "{roles}\n",
    "\n",
    "Current conversation context:\n",
    "{history}\n",
    "\n",
    "Read the above conversation, then select an agent from {participants} to perform the\n",
    "next task.\n",
    "Make sure the planner agent has assigned tasks before other agents start working.\n",
    "Only select one agent.\n",
    "\"\"\"\n",
    "\n",
    "team = SelectorGroupChat(\n",
    "    [customer_agent, account_agent, saving_account_agent, investment_agent],\n",
    "    model_client=model_client,\n",
    "    termination_condition=TextMentionTermination(\"TERMINATE\") | MaxMessageTermination(max_messages=25),\n",
    "    selector_prompt=selector_prompt,\n",
    "    allow_repeated_speaker=True,  # Allow an agent to speak multiple turns in a row.\n",
    ")"
   ]
  },
  {
   "cell_type": "markdown",
   "metadata": {},
   "source": [
    "It's now time to run the team."
   ]
  },
  {
   "cell_type": "code",
   "execution_count": null,
   "metadata": {},
   "outputs": [
    {
     "name": "stdout",
     "output_type": "stream",
     "text": [
      "---------- user ----------\n",
      "Get the account ID and then get the saving balance and investment balance. Both saving and investment account havethe same account ID. Sum the balances when they are available.\n",
      "---------- account_agent ----------\n",
      "[FunctionCall(id='call_cEmxG69CAcqjUeiqo3nftyGZ', arguments='{}', name='get_bank_account_id')]\n"
     ]
    },
    {
     "data": {
      "text/html": [
       "<pre style=\"white-space:pre;overflow-x:auto;line-height:normal;font-family:Menlo,'DejaVu Sans Mono',consolas,'Courier New',monospace\"><span style=\"color: #800000; text-decoration-color: #800000; font-weight: bold\">[</span><span style=\"color: #800000; text-decoration-color: #800000\">TOOL</span><span style=\"color: #800000; text-decoration-color: #800000; font-weight: bold\">]</span><span style=\"color: #800000; text-decoration-color: #800000\"> Bank account ID: </span><span style=\"color: #800000; text-decoration-color: #800000; font-weight: bold\">456</span>\n",
       "</pre>\n"
      ],
      "text/plain": [
       "\u001b[1;31m[\u001b[0m\u001b[31mTOOL\u001b[0m\u001b[1;31m]\u001b[0m\u001b[31m Bank account ID: \u001b[0m\u001b[1;31m456\u001b[0m\n"
      ]
     },
     "metadata": {},
     "output_type": "display_data"
    },
    {
     "name": "stdout",
     "output_type": "stream",
     "text": [
      "---------- account_agent ----------\n",
      "[FunctionExecutionResult(content='456', name='get_bank_account_id', call_id='call_cEmxG69CAcqjUeiqo3nftyGZ', is_error=False)]\n",
      "---------- account_agent ----------\n",
      "456\n",
      "---------- saving_account_agent ----------\n"
     ]
    },
    {
     "data": {
      "text/html": [
       "<pre style=\"white-space:pre;overflow-x:auto;line-height:normal;font-family:Menlo,'DejaVu Sans Mono',consolas,'Courier New',monospace\"><span style=\"color: #008080; text-decoration-color: #008080; font-weight: bold\">[</span><span style=\"color: #008080; text-decoration-color: #008080\">TOOL</span><span style=\"color: #008080; text-decoration-color: #008080; font-weight: bold\">]</span><span style=\"color: #008080; text-decoration-color: #008080\"> Saving balance: </span><span style=\"color: #008080; text-decoration-color: #008080; font-weight: bold\">200000.2</span>\n",
       "</pre>\n"
      ],
      "text/plain": [
       "\u001b[1;36m[\u001b[0m\u001b[36mTOOL\u001b[0m\u001b[1;36m]\u001b[0m\u001b[36m Saving balance: \u001b[0m\u001b[1;36m200000.2\u001b[0m\n"
      ]
     },
     "metadata": {},
     "output_type": "display_data"
    },
    {
     "name": "stdout",
     "output_type": "stream",
     "text": [
      "[FunctionCall(id='call_qUZTj9tr4DNOxebTmL2tM6uj', arguments='{\"bank_account_id\": \"456\"}', name='get_saving_account_balance')]\n",
      "---------- saving_account_agent ----------\n",
      "[FunctionExecutionResult(content='200000.2', name='get_saving_account_balance', call_id='call_qUZTj9tr4DNOxebTmL2tM6uj', is_error=False)]\n",
      "---------- saving_account_agent ----------\n",
      "200000.2\n"
     ]
    },
    {
     "data": {
      "text/html": [
       "<pre style=\"white-space:pre;overflow-x:auto;line-height:normal;font-family:Menlo,'DejaVu Sans Mono',consolas,'Courier New',monospace\"><span style=\"color: #008000; text-decoration-color: #008000; font-weight: bold\">[</span><span style=\"color: #008000; text-decoration-color: #008000\">TOOL</span><span style=\"color: #008000; text-decoration-color: #008000; font-weight: bold\">]</span><span style=\"color: #008000; text-decoration-color: #008000\"> Investment balance: </span><span style=\"color: #008000; text-decoration-color: #008000; font-weight: bold\">200000.2</span>\n",
       "</pre>\n"
      ],
      "text/plain": [
       "\u001b[1;32m[\u001b[0m\u001b[32mTOOL\u001b[0m\u001b[1;32m]\u001b[0m\u001b[32m Investment balance: \u001b[0m\u001b[1;32m200000.2\u001b[0m\n"
      ]
     },
     "metadata": {},
     "output_type": "display_data"
    },
    {
     "name": "stdout",
     "output_type": "stream",
     "text": [
      "---------- investment_agent ----------\n",
      "[FunctionCall(id='call_KZeqa3UtrdGEctAozZ2WYCMh', arguments='{\"bank_account_id\":\"456\"}', name='get_investment_account_balance')]\n",
      "---------- investment_agent ----------\n",
      "[FunctionExecutionResult(content='200000.2', name='get_investment_account_balance', call_id='call_KZeqa3UtrdGEctAozZ2WYCMh', is_error=False)]\n",
      "---------- investment_agent ----------\n",
      "200000.2\n",
      "---------- customer_agent ----------\n",
      "account_agent : Retrieve account ID\n",
      "saving_account_agent : Retrieve saving account balance using account ID 456\n",
      "investment_agent : Retrieve investment account balance using account ID 456\n",
      "\n",
      "Once these tasks are complete, calculate the total balance by summing the saving balance and investment balance.\n",
      "\n",
      "```json\n",
      "{\n",
      "    \"account_id\": \"456\",\n",
      "    \"saving_balance\": 200000.2,\n",
      "    \"investment_balance\": 200000.2,\n",
      "    \"total_balance\": 400000.4\n",
      "}\n",
      "```\n",
      "\n",
      "TERMINATE\n"
     ]
    }
   ],
   "source": [
    "await team.reset()\n",
    "result = await Console(\n",
    "        team.run_stream(\n",
    "            task=\"Get the account ID and then get the saving balance \"\n",
    "            \"and investment balance. Both saving and investment account have\"\n",
    "            \"the same account ID. Sum the balances when they are available.\"\n",
    "        )\n",
    "    )"
   ]
  }
 ],
 "metadata": {
  "kernelspec": {
   "display_name": ".venv",
   "language": "python",
   "name": "python3"
  },
  "language_info": {
   "codemirror_mode": {
    "name": "ipython",
    "version": 3
   },
   "file_extension": ".py",
   "mimetype": "text/x-python",
   "name": "python",
   "nbconvert_exporter": "python",
   "pygments_lexer": "ipython3",
   "version": "3.12.9"
  }
 },
 "nbformat": 4,
 "nbformat_minor": 2
}
