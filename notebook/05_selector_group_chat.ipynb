{
 "cells": [
  {
   "cell_type": "markdown",
   "metadata": {},
   "source": [
    "## Other predefined teams\n",
    "AutoGen provides several other predefined teams together with `RoundRobinGroupChat` one example is the `Selector Group Chat` where all agents\n",
    "share the same context and an LLM selects the next 'speaker' in the group.\n"
   ]
  },
  {
   "cell_type": "markdown",
   "metadata": {},
   "source": [
    "### SelectorGroupChat team"
   ]
  },
  {
   "cell_type": "code",
   "execution_count": 1,
   "metadata": {},
   "outputs": [],
   "source": [
    "import sys\n",
    "sys.path.append(\"..\")\n",
    "\n",
    "from autogen_agentchat.agents import AssistantAgent\n",
    "from autogen_agentchat.conditions import MaxMessageTermination, TextMentionTermination\n",
    "from autogen_agentchat.teams import SelectorGroupChat\n",
    "from autogen_agentchat.ui import Console\n",
    "from model_clients.azure import get_model\n",
    "from rich import print\n",
    "import random\n",
    "\n",
    "model_client = get_model()\n"
   ]
  },
  {
   "cell_type": "markdown",
   "metadata": {},
   "source": [
    "Let's start by creating the agent in charge of deciding which agent is in charge to execute (a.k.a the group chat moderator)"
   ]
  },
  {
   "cell_type": "code",
   "execution_count": 2,
   "metadata": {},
   "outputs": [],
   "source": [
    "customer_agent = AssistantAgent(\n",
    "    \"customer_agent\",\n",
    "    model_client=model_client,\n",
    "    description=\"A bank assistant.\",\n",
    "    system_message=\"\"\"You are a bank assistant.\n",
    "    Your job is to break down complex tasks into smaller, manageable subtasks.\n",
    "\n",
    "    Your team members are:\n",
    "        account_agent: provides account ID\n",
    "        saving_account_agent: provides saving account balance\n",
    "        investment_agent: provides investment account balance\n",
    "\n",
    "    You only plan and delegate tasks - you do not execute them yourself.\n",
    "\n",
    "    When assigning tasks, use this format:\n",
    "    <agent> : <task>\n",
    "\n",
    "    After all tasks are complete,  Provide your response in a JSON format.\"\n",
    "\n",
    "    ```json{\n",
    "        \"account_id\": \"<account id>\",\n",
    "        \"saving_balance\": <saving balance>,\n",
    "        \"investment_balance\": <investment balance>,\n",
    "        \"total_balance\": <total balance>\n",
    "    }```\n",
    "\n",
    "    And, end with \"TERMINATE\".\n",
    "    \"\"\",\n",
    ")"
   ]
  },
  {
   "cell_type": "markdown",
   "metadata": {},
   "source": [
    "Let's start by defining the tools (aka the functions) that will be used by the agents"
   ]
  },
  {
   "cell_type": "code",
   "execution_count": 3,
   "metadata": {},
   "outputs": [],
   "source": [
    "# Define the tools used by the agents\n",
    "\n",
    "balances = {\n",
    "        \"123\": 100000.10,\n",
    "        \"456\": 200000.20,\n",
    "        \"789\": 300000.30,\n",
    "    }\n",
    "\n",
    "def get_bank_account_id() -> str:\n",
    "    \"\"\"Get the bank account ID.\"\"\"\n",
    "    id = random.choice([\"123\", \"456\", \"789\"])\n",
    "    print(f\"[red][TOOL] Bank account ID: {id}[/red]\")\n",
    "    return id\n",
    "\n",
    "def get_investment_account_balance(bank_account_id: str) -> float:\n",
    "    \"\"\"Get the investment balance of an account.\n",
    "\n",
    "    :param bank_account_id: The account ID.\n",
    "    :return: The investment balance.\n",
    "    \"\"\"    \n",
    "\n",
    "    balance = balances[bank_account_id]\n",
    "    print(f\"[green][TOOL] Investment balance: {balance}[/green]\")\n",
    "    return balance\n",
    "\n",
    "def get_saving_account_balance(bank_account_id: str) -> float:\n",
    "    \"\"\"Get the saving balance of an account.\n",
    "\n",
    "    :param bank_account_id: The account ID.\n",
    "    :return: The saving balance.\n",
    "    \"\"\"\n",
    "    balance = balances[bank_account_id]\n",
    "    print(f\"[cyan][TOOL] Saving balance: {balance}[/cyan]\")\n",
    "    return balance"
   ]
  },
  {
   "cell_type": "markdown",
   "metadata": {},
   "source": [
    "Now let's define the agents..."
   ]
  },
  {
   "cell_type": "code",
   "execution_count": 4,
   "metadata": {},
   "outputs": [],
   "source": [
    "account_agent = AssistantAgent(\n",
    "    \"account_agent\",\n",
    "    model_client=model_client,\n",
    "    description=\"An account agent.\",\n",
    "    tools=[get_bank_account_id],\n",
    "    system_message=\"\"\"You are an account agent who can provide account ID.\n",
    "You should always use the tool provided to generate the account balance.\n",
    "    \"\"\",  \n",
    ")\n",
    "\n",
    "investment_agent = AssistantAgent(\n",
    "    \"investment_agent\",\n",
    "    model_client=model_client,\n",
    "    description=\"An investment account agent.\",\n",
    "    tools=[get_investment_account_balance],\n",
    "    system_message=\"\"\"You are an investment account agent who can provide information about the investment account balance.\n",
    "Look at the chat history to understand the context of the conversation and the account id is in the it. Look for investment account ID.\n",
    "You should always use the tool provided to generate the account balance.\n",
    "    \"\"\", \n",
    ")\n",
    "\n",
    "saving_account_agent = AssistantAgent(\n",
    "    \"saving_account_agent\",\n",
    "    model_client=get_model(),\n",
    "    description=\"A saving account agent.\",\n",
    "    tools=[get_saving_account_balance],\n",
    "    system_message=\"\"\"You are a saving account agent who can provide information about the saving account balance.\n",
    "Look at the chat history to understand the context of the conversation and the account id is in the it. Look for Saving account ID.\n",
    "You should always use the tool provided to generate the account balance.\n",
    "    \"\"\",  \n",
    ")"
   ]
  },
  {
   "cell_type": "markdown",
   "metadata": {},
   "source": [
    "Now we create the team, this time using a `SelectorGroupChat` made up of the 4 agents we just created.\n",
    "Please note that:  \n",
    "1. We create a special prompt to let the customer_agent (the chat moderator) decide who will be the next agent to invoke\n",
    "2. Since conversation might end up in a loop, we define two termination conditions:\n",
    "   1. When the requests completes (indicated by the presence of TERMINATE in the response)\n",
    "   2. When the number of exchanged messages goes above 25"
   ]
  },
  {
   "cell_type": "code",
   "execution_count": 5,
   "metadata": {},
   "outputs": [],
   "source": [
    "selector_prompt = \"\"\"Select an agent to perform task.\n",
    "\n",
    "{roles}\n",
    "\n",
    "Current conversation context:\n",
    "{history}\n",
    "\n",
    "Read the above conversation, then select an agent from {participants} to perform the\n",
    "next task.\n",
    "Make sure the planner agent has assigned tasks before other agents start working.\n",
    "Only select one agent.\n",
    "\"\"\"\n",
    "\n",
    "team = SelectorGroupChat(\n",
    "    [customer_agent, account_agent, saving_account_agent, investment_agent],\n",
    "    model_client=model_client,\n",
    "    termination_condition=TextMentionTermination(\"TERMINATE\") | MaxMessageTermination(max_messages=25),\n",
    "    selector_prompt=selector_prompt,\n",
    "    allow_repeated_speaker=True,  # Allow an agent to speak multiple turns in a row.\n",
    ")"
   ]
  },
  {
   "cell_type": "markdown",
   "metadata": {},
   "source": [
    "Now, let's run the team"
   ]
  },
  {
   "cell_type": "code",
   "execution_count": 7,
   "metadata": {},
   "outputs": [
    {
     "name": "stdout",
     "output_type": "stream",
     "text": [
      "---------- user ----------\n",
      "Get the account ID and then get the saving balance and investment balance. Both saving and investment account havethe same account ID. Sum the balances when they are available.\n"
     ]
    },
    {
     "data": {
      "text/html": [
       "<pre style=\"white-space:pre;overflow-x:auto;line-height:normal;font-family:Menlo,'DejaVu Sans Mono',consolas,'Courier New',monospace\"><span style=\"color: #800000; text-decoration-color: #800000; font-weight: bold\">[</span><span style=\"color: #800000; text-decoration-color: #800000\">TOOL</span><span style=\"color: #800000; text-decoration-color: #800000; font-weight: bold\">]</span><span style=\"color: #800000; text-decoration-color: #800000\"> Bank account ID: </span><span style=\"color: #800000; text-decoration-color: #800000; font-weight: bold\">789</span>\n",
       "</pre>\n"
      ],
      "text/plain": [
       "\u001b[1;31m[\u001b[0m\u001b[31mTOOL\u001b[0m\u001b[1;31m]\u001b[0m\u001b[31m Bank account ID: \u001b[0m\u001b[1;31m789\u001b[0m\n"
      ]
     },
     "metadata": {},
     "output_type": "display_data"
    },
    {
     "name": "stdout",
     "output_type": "stream",
     "text": [
      "---------- account_agent ----------\n",
      "[FunctionCall(id='call_YwL8JLIixdXpMzqwtU3QVHrY', arguments='{}', name='get_bank_account_id')]\n",
      "---------- account_agent ----------\n",
      "[FunctionExecutionResult(content='789', name='get_bank_account_id', call_id='call_YwL8JLIixdXpMzqwtU3QVHrY', is_error=False)]\n",
      "---------- account_agent ----------\n",
      "789\n"
     ]
    },
    {
     "data": {
      "text/html": [
       "<pre style=\"white-space:pre;overflow-x:auto;line-height:normal;font-family:Menlo,'DejaVu Sans Mono',consolas,'Courier New',monospace\"><span style=\"color: #008080; text-decoration-color: #008080; font-weight: bold\">[</span><span style=\"color: #008080; text-decoration-color: #008080\">TOOL</span><span style=\"color: #008080; text-decoration-color: #008080; font-weight: bold\">]</span><span style=\"color: #008080; text-decoration-color: #008080\"> Saving balance: </span><span style=\"color: #008080; text-decoration-color: #008080; font-weight: bold\">300000.3</span>\n",
       "</pre>\n"
      ],
      "text/plain": [
       "\u001b[1;36m[\u001b[0m\u001b[36mTOOL\u001b[0m\u001b[1;36m]\u001b[0m\u001b[36m Saving balance: \u001b[0m\u001b[1;36m300000.3\u001b[0m\n"
      ]
     },
     "metadata": {},
     "output_type": "display_data"
    },
    {
     "name": "stdout",
     "output_type": "stream",
     "text": [
      "---------- saving_account_agent ----------\n",
      "[FunctionCall(id='call_vzYwEYJgWRbAhwLHrojWdDSX', arguments='{\"bank_account_id\": \"789\"}', name='get_saving_account_balance'), FunctionCall(id='call_AQXIuQlycE55gKDu9OGK7rwq', arguments='{\"bank_account_id\": \"789\"}', name='get_investment_account_balance')]\n",
      "---------- saving_account_agent ----------\n",
      "[FunctionExecutionResult(content='300000.3', name='get_saving_account_balance', call_id='call_vzYwEYJgWRbAhwLHrojWdDSX', is_error=False), FunctionExecutionResult(content=\"Error: The tool 'get_investment_account_balance' is not available.\", name='get_investment_account_balance', call_id='call_AQXIuQlycE55gKDu9OGK7rwq', is_error=True)]\n",
      "---------- saving_account_agent ----------\n",
      "300000.3\n",
      "Error: The tool 'get_investment_account_balance' is not available.\n"
     ]
    },
    {
     "data": {
      "text/html": [
       "<pre style=\"white-space:pre;overflow-x:auto;line-height:normal;font-family:Menlo,'DejaVu Sans Mono',consolas,'Courier New',monospace\"><span style=\"color: #008000; text-decoration-color: #008000; font-weight: bold\">[</span><span style=\"color: #008000; text-decoration-color: #008000\">TOOL</span><span style=\"color: #008000; text-decoration-color: #008000; font-weight: bold\">]</span><span style=\"color: #008000; text-decoration-color: #008000\"> Investment balance: </span><span style=\"color: #008000; text-decoration-color: #008000; font-weight: bold\">300000.3</span>\n",
       "</pre>\n"
      ],
      "text/plain": [
       "\u001b[1;32m[\u001b[0m\u001b[32mTOOL\u001b[0m\u001b[1;32m]\u001b[0m\u001b[32m Investment balance: \u001b[0m\u001b[1;32m300000.3\u001b[0m\n"
      ]
     },
     "metadata": {},
     "output_type": "display_data"
    },
    {
     "name": "stdout",
     "output_type": "stream",
     "text": [
      "---------- investment_agent ----------\n",
      "[FunctionCall(id='call_VADM6DjZ6nJcAI3mQfILdl74', arguments='{\"bank_account_id\":\"789\"}', name='get_investment_account_balance')]\n",
      "---------- investment_agent ----------\n",
      "[FunctionExecutionResult(content='300000.3', name='get_investment_account_balance', call_id='call_VADM6DjZ6nJcAI3mQfILdl74', is_error=False)]\n",
      "---------- investment_agent ----------\n",
      "300000.3\n",
      "---------- investment_agent ----------\n",
      "The savings balance is 300,000.3 and the investment balance is also 300,000.3. \n",
      "\n",
      "The total balance, combining both savings and investment, is 600,000.6.\n",
      "---------- investment_agent ----------\n",
      "The savings balance is 300,000.3 and the investment balance is also 300,000.3. \n",
      "\n",
      "The total balance, combining both savings and investment, is 600,000.6.\n",
      "---------- investment_agent ----------\n",
      "The savings balance is 300,000.3 and the investment balance is also 300,000.3. \n",
      "\n",
      "The total balance, combining both savings and investment, is 600,000.6.\n",
      "---------- investment_agent ----------\n",
      "The savings balance is 300,000.3 and the investment balance is also 300,000.3. \n",
      "\n",
      "The total balance, combining both savings and investment, is 600,000.6.\n",
      "---------- investment_agent ----------\n",
      "The total balance from combining both savings and investment is 600,000.6.\n",
      "---------- investment_agent ----------\n",
      "The total balance from combining both savings and investment is 600,000.6.\n",
      "---------- investment_agent ----------\n",
      "The total balance from combining both savings and investment is 600,000.6.\n",
      "---------- investment_agent ----------\n",
      "The total balance from combining both savings and investment is 600,000.6.\n",
      "---------- investment_agent ----------\n",
      "The total balance from combining both savings and investment is 600,000.6.\n",
      "---------- investment_agent ----------\n",
      "The savings balance is 300,000.3 and the investment balance is also 300,000.3. \n",
      "\n",
      "The total balance, combining both savings and investment, is 600,000.6.\n",
      "---------- investment_agent ----------\n",
      "The savings balance is 300,000.3 and the investment balance is also 300,000.3. \n",
      "\n",
      "The total balance, combining both savings and investment, is 600,000.6.\n",
      "---------- investment_agent ----------\n",
      "The savings balance is 300,000.3 and the investment balance is also 300,000.3. \n",
      "\n",
      "The total balance, combining both savings and investment, is 600,000.6.\n"
     ]
    },
    {
     "ename": "CancelledError",
     "evalue": "",
     "output_type": "error",
     "traceback": [
      "\u001b[31m---------------------------------------------------------------------------\u001b[39m",
      "\u001b[31mCancelledError\u001b[39m                            Traceback (most recent call last)",
      "\u001b[36mCell\u001b[39m\u001b[36m \u001b[39m\u001b[32mIn[7]\u001b[39m\u001b[32m, line 2\u001b[39m\n\u001b[32m      1\u001b[39m \u001b[38;5;28;01mawait\u001b[39;00m team.reset()\n\u001b[32m----> \u001b[39m\u001b[32m2\u001b[39m result = \u001b[38;5;28;01mawait\u001b[39;00m Console(\n\u001b[32m      3\u001b[39m         team.run_stream(\n\u001b[32m      4\u001b[39m             task=\u001b[33m\"\u001b[39m\u001b[33mGet the account ID and then get the saving balance \u001b[39m\u001b[33m\"\u001b[39m\n\u001b[32m      5\u001b[39m             \u001b[33m\"\u001b[39m\u001b[33mand investment balance. Both saving and investment account have\u001b[39m\u001b[33m\"\u001b[39m\n\u001b[32m      6\u001b[39m             \u001b[33m\"\u001b[39m\u001b[33mthe same account ID. Sum the balances when they are available.\u001b[39m\u001b[33m\"\u001b[39m\n\u001b[32m      7\u001b[39m         )\n\u001b[32m      8\u001b[39m     )\n",
      "\u001b[36mFile \u001b[39m\u001b[32m~/Dev/autogen/.venv/lib/python3.12/site-packages/autogen_agentchat/ui/_console.py:117\u001b[39m, in \u001b[36mConsole\u001b[39m\u001b[34m(stream, no_inline_images, output_stats, user_input_manager)\u001b[39m\n\u001b[32m    113\u001b[39m last_processed: Optional[T] = \u001b[38;5;28;01mNone\u001b[39;00m\n\u001b[32m    115\u001b[39m streaming_chunks: List[\u001b[38;5;28mstr\u001b[39m] = []\n\u001b[32m--> \u001b[39m\u001b[32m117\u001b[39m \u001b[38;5;28;01masync\u001b[39;00m \u001b[38;5;28;01mfor\u001b[39;00m message \u001b[38;5;129;01min\u001b[39;00m stream:\n\u001b[32m    118\u001b[39m     \u001b[38;5;28;01mif\u001b[39;00m \u001b[38;5;28misinstance\u001b[39m(message, TaskResult):\n\u001b[32m    119\u001b[39m         duration = time.time() - start_time\n",
      "\u001b[36mFile \u001b[39m\u001b[32m~/Dev/autogen/.venv/lib/python3.12/site-packages/autogen_agentchat/teams/_group_chat/_base_group_chat.py:459\u001b[39m, in \u001b[36mBaseGroupChat.run_stream\u001b[39m\u001b[34m(self, task, cancellation_token)\u001b[39m\n\u001b[32m    457\u001b[39m     cancellation_token.link_future(message_future)\n\u001b[32m    458\u001b[39m \u001b[38;5;66;03m# Wait for the next message, this will raise an exception if the task is cancelled.\u001b[39;00m\n\u001b[32m--> \u001b[39m\u001b[32m459\u001b[39m message = \u001b[38;5;28;01mawait\u001b[39;00m message_future\n\u001b[32m    460\u001b[39m \u001b[38;5;28;01mif\u001b[39;00m \u001b[38;5;28misinstance\u001b[39m(message, GroupChatTermination):\n\u001b[32m    461\u001b[39m     \u001b[38;5;66;03m# If the message is None, it means the group chat has terminated.\u001b[39;00m\n\u001b[32m    462\u001b[39m     \u001b[38;5;66;03m# TODO: how do we handle termination when the runtime is not embedded\u001b[39;00m\n\u001b[32m    463\u001b[39m     \u001b[38;5;66;03m# and there is an exception in the group chat?\u001b[39;00m\n\u001b[32m    464\u001b[39m     \u001b[38;5;66;03m# The group chat manager may not be able to put a GroupChatTermination event in the queue,\u001b[39;00m\n\u001b[32m    465\u001b[39m     \u001b[38;5;66;03m# and this loop will never end.\u001b[39;00m\n\u001b[32m    466\u001b[39m     stop_reason = message.message.content\n",
      "\u001b[36mFile \u001b[39m\u001b[32m/opt/homebrew/Caskroom/miniconda/base/lib/python3.12/asyncio/queues.py:158\u001b[39m, in \u001b[36mQueue.get\u001b[39m\u001b[34m(self)\u001b[39m\n\u001b[32m    156\u001b[39m \u001b[38;5;28mself\u001b[39m._getters.append(getter)\n\u001b[32m    157\u001b[39m \u001b[38;5;28;01mtry\u001b[39;00m:\n\u001b[32m--> \u001b[39m\u001b[32m158\u001b[39m     \u001b[38;5;28;01mawait\u001b[39;00m getter\n\u001b[32m    159\u001b[39m \u001b[38;5;28;01mexcept\u001b[39;00m:\n\u001b[32m    160\u001b[39m     getter.cancel()  \u001b[38;5;66;03m# Just in case getter is not done yet.\u001b[39;00m\n",
      "\u001b[31mCancelledError\u001b[39m: "
     ]
    }
   ],
   "source": [
    "await team.reset()\n",
    "result = await Console(\n",
    "        team.run_stream(\n",
    "            task=\"Get the account ID and then get the saving balance \"\n",
    "            \"and investment balance. Both saving and investment account have\"\n",
    "            \"the same account ID. Sum the balances when they are available.\"\n",
    "        )\n",
    "    )\n",
    "\n"
   ]
  }
 ],
 "metadata": {
  "kernelspec": {
   "display_name": ".venv",
   "language": "python",
   "name": "python3"
  },
  "language_info": {
   "codemirror_mode": {
    "name": "ipython",
    "version": 3
   },
   "file_extension": ".py",
   "mimetype": "text/x-python",
   "name": "python",
   "nbconvert_exporter": "python",
   "pygments_lexer": "ipython3",
   "version": "3.12.9"
  }
 },
 "nbformat": 4,
 "nbformat_minor": 2
}
