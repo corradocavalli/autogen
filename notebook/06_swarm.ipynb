{
 "cells": [
  {
   "cell_type": "markdown",
   "metadata": {},
   "source": [
    "## Swarm team\n",
    "Is a team inspired by the one [provided](https://github.com/openai/swarm) by OpenAI where an agent can decide to hand off a task to another agent.  \n",
    "\n",
    "It is basically a group chat where,like the ones seen before, each agent broadcasts their responses to all the other agents in the group but the next one depends\n",
    "on the most recent `HandsoffMessage`\n",
    "\n",
    "**NOTE** The handoff functionality uses the tool calling functionality, this means that the LLM that the agent uses **MUST** support tool calling."
   ]
  },
  {
   "cell_type": "code",
   "execution_count": 7,
   "metadata": {},
   "outputs": [],
   "source": [
    "import sys\n",
    "sys.path.append(\"..\")\n",
    "\n",
    "from autogen_agentchat.agents import AssistantAgent, UserProxyAgent\n",
    "from autogen_agentchat.conditions import HandoffTermination, TextMentionTermination\n",
    "from autogen_agentchat.teams import Swarm\n",
    "from autogen_agentchat.messages import HandoffMessage\n",
    "from autogen_agentchat.ui import Console\n",
    "from model_clients.azure import get_model\n",
    "from rich import print\n",
    "\n",
    "\n",
    "model_client = get_model()"
   ]
  },
  {
   "cell_type": "markdown",
   "metadata": {},
   "source": [
    "As usual, let's now define the tools involved"
   ]
  },
  {
   "cell_type": "code",
   "execution_count": 8,
   "metadata": {},
   "outputs": [],
   "source": [
    "def refund_flight(flight_id: str) -> str:\n",
    "    \"\"\"Refund a flight\n",
    "\n",
    "    :param flight_id: The ID of the flight.\n",
    "    :return: The confirmation that the flight has been refunded.\n",
    "    \"\"\"\n",
    "    print(f\"[blue]Refunding flight {flight_id}[/blue]\")\n",
    "    return f\"Flight {flight_id} refunded\"\n"
   ]
  },
  {
   "cell_type": "markdown",
   "metadata": {},
   "source": [
    "Now its time to define the agents..."
   ]
  },
  {
   "cell_type": "code",
   "execution_count": 9,
   "metadata": {},
   "outputs": [],
   "source": [
    "travel_agent = AssistantAgent(\n",
    "    \"travel_agent\",\n",
    "    model_client=model_client,\n",
    "    handoffs=[\"flights_refunder\", \"user\"],\n",
    "    system_message=\"\"\"You are a travel agent.\n",
    "    The flights_refunder is in charge of refunding flights.\n",
    "    If you need information from the user, you can handoff to the user.\n",
    "    Use TERMINATE when the travel planning is complete.\"\"\",\n",
    ")\n",
    "\n",
    "flights_refunder = AssistantAgent(\n",
    "    \"flights_refunder\",\n",
    "    model_client=model_client,\n",
    "    handoffs=[\"travel_agent\", \"user\"],\n",
    "    tools=[refund_flight],\n",
    "    system_message=\"\"\"You are an agent specialized in refunding flights.\n",
    "    You only need flight reference numbers to refund a flight.\n",
    "    You have the ability to refund a flight using the refund_flight tool.\n",
    "    If you need information from the user, you must first send your message, then you can handoff to the user.\n",
    "    When the transaction is complete, handoff to the travel agent to finalize.\n",
    "    Use TERMINATE when the refunding is complete or when the bookins id is 'exit'.\"\"\",\n",
    ")\n",
    "\n",
    "# user_agent= UserProxyAgent(name=\"user\",\n",
    "#                             description= \"The user in charge of handling additional requests from the assistant\",input_func=input)"
   ]
  },
  {
   "cell_type": "markdown",
   "metadata": {},
   "source": [
    "And finally the Swarm team with the proper termination conditions"
   ]
  },
  {
   "cell_type": "code",
   "execution_count": 10,
   "metadata": {},
   "outputs": [],
   "source": [
    "termination = HandoffTermination(target=\"user\") | TextMentionTermination(\"TERMINATE\")\n",
    "team = Swarm([travel_agent, flights_refunder], termination_condition=termination)\n"
   ]
  },
  {
   "cell_type": "markdown",
   "metadata": {},
   "source": [
    "Now let's run the workflow, you can see the handsoff in action using, as example:  \n",
    "\n",
    "- 'I need help with my flight'\n",
    "- 'I need a refund'\n",
    "- 'I want my flight 678 refunded'\n",
    "\n",
    "And test the different behavior"
   ]
  },
  {
   "cell_type": "code",
   "execution_count": 11,
   "metadata": {},
   "outputs": [
    {
     "name": "stdout",
     "output_type": "stream",
     "text": [
      "---------- user ----------\n",
      "I need help with my flight\n",
      "---------- travel_agent ----------\n",
      "Could you please provide more details about what you need help with regarding your flight? Are you looking to book a new flight, change an existing reservation, or request a refund?\n",
      "---------- travel_agent ----------\n",
      "[FunctionCall(id='call_kmfYcLZe0np9UOimdCNRkwcT', arguments='{}', name='transfer_to_user')]\n",
      "---------- travel_agent ----------\n",
      "[FunctionExecutionResult(content='Transferred to user, adopting the role of user immediately.', name='transfer_to_user', call_id='call_kmfYcLZe0np9UOimdCNRkwcT', is_error=False)]\n",
      "---------- travel_agent ----------\n",
      "Transferred to user, adopting the role of user immediately.\n"
     ]
    },
    {
     "data": {
      "text/html": [
       "<pre style=\"white-space:pre;overflow-x:auto;line-height:normal;font-family:Menlo,'DejaVu Sans Mono',consolas,'Courier New',monospace\"><span style=\"font-weight: bold\">[</span>\n",
       "    <span style=\"color: #800080; text-decoration-color: #800080; font-weight: bold\">TextMessage</span><span style=\"font-weight: bold\">(</span>\n",
       "        <span style=\"color: #808000; text-decoration-color: #808000\">source</span>=<span style=\"color: #008000; text-decoration-color: #008000\">'user'</span>,\n",
       "        <span style=\"color: #808000; text-decoration-color: #808000\">models_usage</span>=<span style=\"color: #800080; text-decoration-color: #800080; font-style: italic\">None</span>,\n",
       "        <span style=\"color: #808000; text-decoration-color: #808000\">metadata</span>=<span style=\"font-weight: bold\">{}</span>,\n",
       "        <span style=\"color: #808000; text-decoration-color: #808000\">content</span>=<span style=\"color: #008000; text-decoration-color: #008000\">'I need help with my flight'</span>,\n",
       "        <span style=\"color: #808000; text-decoration-color: #808000\">type</span>=<span style=\"color: #008000; text-decoration-color: #008000\">'TextMessage'</span>\n",
       "    <span style=\"font-weight: bold\">)</span>,\n",
       "    <span style=\"color: #800080; text-decoration-color: #800080; font-weight: bold\">TextMessage</span><span style=\"font-weight: bold\">(</span>\n",
       "        <span style=\"color: #808000; text-decoration-color: #808000\">source</span>=<span style=\"color: #008000; text-decoration-color: #008000\">'travel_agent'</span>,\n",
       "        <span style=\"color: #808000; text-decoration-color: #808000\">models_usage</span>=<span style=\"color: #800080; text-decoration-color: #800080; font-weight: bold\">RequestUsage</span><span style=\"font-weight: bold\">(</span><span style=\"color: #808000; text-decoration-color: #808000\">prompt_tokens</span>=<span style=\"color: #008080; text-decoration-color: #008080; font-weight: bold\">110</span>, <span style=\"color: #808000; text-decoration-color: #808000\">completion_tokens</span>=<span style=\"color: #008080; text-decoration-color: #008080; font-weight: bold\">37</span><span style=\"font-weight: bold\">)</span>,\n",
       "        <span style=\"color: #808000; text-decoration-color: #808000\">metadata</span>=<span style=\"font-weight: bold\">{}</span>,\n",
       "        <span style=\"color: #808000; text-decoration-color: #808000\">content</span>=<span style=\"color: #008000; text-decoration-color: #008000\">'Could you please provide more details about what you need help with regarding your flight? Are you</span>\n",
       "<span style=\"color: #008000; text-decoration-color: #008000\">looking to book a new flight, change an existing reservation, or request a refund?'</span>,\n",
       "        <span style=\"color: #808000; text-decoration-color: #808000\">type</span>=<span style=\"color: #008000; text-decoration-color: #008000\">'TextMessage'</span>\n",
       "    <span style=\"font-weight: bold\">)</span>,\n",
       "    <span style=\"color: #800080; text-decoration-color: #800080; font-weight: bold\">ToolCallRequestEvent</span><span style=\"font-weight: bold\">(</span>\n",
       "        <span style=\"color: #808000; text-decoration-color: #808000\">source</span>=<span style=\"color: #008000; text-decoration-color: #008000\">'travel_agent'</span>,\n",
       "        <span style=\"color: #808000; text-decoration-color: #808000\">models_usage</span>=<span style=\"color: #800080; text-decoration-color: #800080; font-weight: bold\">RequestUsage</span><span style=\"font-weight: bold\">(</span><span style=\"color: #808000; text-decoration-color: #808000\">prompt_tokens</span>=<span style=\"color: #008080; text-decoration-color: #008080; font-weight: bold\">152</span>, <span style=\"color: #808000; text-decoration-color: #808000\">completion_tokens</span>=<span style=\"color: #008080; text-decoration-color: #008080; font-weight: bold\">12</span><span style=\"font-weight: bold\">)</span>,\n",
       "        <span style=\"color: #808000; text-decoration-color: #808000\">metadata</span>=<span style=\"font-weight: bold\">{}</span>,\n",
       "        <span style=\"color: #808000; text-decoration-color: #808000\">content</span>=<span style=\"font-weight: bold\">[</span><span style=\"color: #800080; text-decoration-color: #800080; font-weight: bold\">FunctionCall</span><span style=\"font-weight: bold\">(</span><span style=\"color: #808000; text-decoration-color: #808000\">id</span>=<span style=\"color: #008000; text-decoration-color: #008000\">'call_kmfYcLZe0np9UOimdCNRkwcT'</span>, <span style=\"color: #808000; text-decoration-color: #808000\">arguments</span>=<span style=\"color: #008000; text-decoration-color: #008000\">'{}'</span>, <span style=\"color: #808000; text-decoration-color: #808000\">name</span>=<span style=\"color: #008000; text-decoration-color: #008000\">'transfer_to_user'</span><span style=\"font-weight: bold\">)]</span>,\n",
       "        <span style=\"color: #808000; text-decoration-color: #808000\">type</span>=<span style=\"color: #008000; text-decoration-color: #008000\">'ToolCallRequestEvent'</span>\n",
       "    <span style=\"font-weight: bold\">)</span>,\n",
       "    <span style=\"color: #800080; text-decoration-color: #800080; font-weight: bold\">ToolCallExecutionEvent</span><span style=\"font-weight: bold\">(</span>\n",
       "        <span style=\"color: #808000; text-decoration-color: #808000\">source</span>=<span style=\"color: #008000; text-decoration-color: #008000\">'travel_agent'</span>,\n",
       "        <span style=\"color: #808000; text-decoration-color: #808000\">models_usage</span>=<span style=\"color: #800080; text-decoration-color: #800080; font-style: italic\">None</span>,\n",
       "        <span style=\"color: #808000; text-decoration-color: #808000\">metadata</span>=<span style=\"font-weight: bold\">{}</span>,\n",
       "        <span style=\"color: #808000; text-decoration-color: #808000\">content</span>=<span style=\"font-weight: bold\">[</span>\n",
       "            <span style=\"color: #800080; text-decoration-color: #800080; font-weight: bold\">FunctionExecutionResult</span><span style=\"font-weight: bold\">(</span>\n",
       "                <span style=\"color: #808000; text-decoration-color: #808000\">content</span>=<span style=\"color: #008000; text-decoration-color: #008000\">'Transferred to user, adopting the role of user immediately.'</span>,\n",
       "                <span style=\"color: #808000; text-decoration-color: #808000\">name</span>=<span style=\"color: #008000; text-decoration-color: #008000\">'transfer_to_user'</span>,\n",
       "                <span style=\"color: #808000; text-decoration-color: #808000\">call_id</span>=<span style=\"color: #008000; text-decoration-color: #008000\">'call_kmfYcLZe0np9UOimdCNRkwcT'</span>,\n",
       "                <span style=\"color: #808000; text-decoration-color: #808000\">is_error</span>=<span style=\"color: #ff0000; text-decoration-color: #ff0000; font-style: italic\">False</span>\n",
       "            <span style=\"font-weight: bold\">)</span>\n",
       "        <span style=\"font-weight: bold\">]</span>,\n",
       "        <span style=\"color: #808000; text-decoration-color: #808000\">type</span>=<span style=\"color: #008000; text-decoration-color: #008000\">'ToolCallExecutionEvent'</span>\n",
       "    <span style=\"font-weight: bold\">)</span>,\n",
       "    <span style=\"color: #800080; text-decoration-color: #800080; font-weight: bold\">HandoffMessage</span><span style=\"font-weight: bold\">(</span>\n",
       "        <span style=\"color: #808000; text-decoration-color: #808000\">source</span>=<span style=\"color: #008000; text-decoration-color: #008000\">'travel_agent'</span>,\n",
       "        <span style=\"color: #808000; text-decoration-color: #808000\">models_usage</span>=<span style=\"color: #800080; text-decoration-color: #800080; font-style: italic\">None</span>,\n",
       "        <span style=\"color: #808000; text-decoration-color: #808000\">metadata</span>=<span style=\"font-weight: bold\">{}</span>,\n",
       "        <span style=\"color: #808000; text-decoration-color: #808000\">target</span>=<span style=\"color: #008000; text-decoration-color: #008000\">'user'</span>,\n",
       "        <span style=\"color: #808000; text-decoration-color: #808000\">content</span>=<span style=\"color: #008000; text-decoration-color: #008000\">'Transferred to user, adopting the role of user immediately.'</span>,\n",
       "        <span style=\"color: #808000; text-decoration-color: #808000\">context</span>=<span style=\"font-weight: bold\">[]</span>,\n",
       "        <span style=\"color: #808000; text-decoration-color: #808000\">type</span>=<span style=\"color: #008000; text-decoration-color: #008000\">'HandoffMessage'</span>\n",
       "    <span style=\"font-weight: bold\">)</span>\n",
       "<span style=\"font-weight: bold\">]</span>\n",
       "</pre>\n"
      ],
      "text/plain": [
       "\u001b[1m[\u001b[0m\n",
       "    \u001b[1;35mTextMessage\u001b[0m\u001b[1m(\u001b[0m\n",
       "        \u001b[33msource\u001b[0m=\u001b[32m'user'\u001b[0m,\n",
       "        \u001b[33mmodels_usage\u001b[0m=\u001b[3;35mNone\u001b[0m,\n",
       "        \u001b[33mmetadata\u001b[0m=\u001b[1m{\u001b[0m\u001b[1m}\u001b[0m,\n",
       "        \u001b[33mcontent\u001b[0m=\u001b[32m'I need help with my flight'\u001b[0m,\n",
       "        \u001b[33mtype\u001b[0m=\u001b[32m'TextMessage'\u001b[0m\n",
       "    \u001b[1m)\u001b[0m,\n",
       "    \u001b[1;35mTextMessage\u001b[0m\u001b[1m(\u001b[0m\n",
       "        \u001b[33msource\u001b[0m=\u001b[32m'travel_agent'\u001b[0m,\n",
       "        \u001b[33mmodels_usage\u001b[0m=\u001b[1;35mRequestUsage\u001b[0m\u001b[1m(\u001b[0m\u001b[33mprompt_tokens\u001b[0m=\u001b[1;36m110\u001b[0m, \u001b[33mcompletion_tokens\u001b[0m=\u001b[1;36m37\u001b[0m\u001b[1m)\u001b[0m,\n",
       "        \u001b[33mmetadata\u001b[0m=\u001b[1m{\u001b[0m\u001b[1m}\u001b[0m,\n",
       "        \u001b[33mcontent\u001b[0m=\u001b[32m'Could you please provide more details about what you need help with regarding your flight? Are you\u001b[0m\n",
       "\u001b[32mlooking to book a new flight, change an existing reservation, or request a refund?'\u001b[0m,\n",
       "        \u001b[33mtype\u001b[0m=\u001b[32m'TextMessage'\u001b[0m\n",
       "    \u001b[1m)\u001b[0m,\n",
       "    \u001b[1;35mToolCallRequestEvent\u001b[0m\u001b[1m(\u001b[0m\n",
       "        \u001b[33msource\u001b[0m=\u001b[32m'travel_agent'\u001b[0m,\n",
       "        \u001b[33mmodels_usage\u001b[0m=\u001b[1;35mRequestUsage\u001b[0m\u001b[1m(\u001b[0m\u001b[33mprompt_tokens\u001b[0m=\u001b[1;36m152\u001b[0m, \u001b[33mcompletion_tokens\u001b[0m=\u001b[1;36m12\u001b[0m\u001b[1m)\u001b[0m,\n",
       "        \u001b[33mmetadata\u001b[0m=\u001b[1m{\u001b[0m\u001b[1m}\u001b[0m,\n",
       "        \u001b[33mcontent\u001b[0m=\u001b[1m[\u001b[0m\u001b[1;35mFunctionCall\u001b[0m\u001b[1m(\u001b[0m\u001b[33mid\u001b[0m=\u001b[32m'call_kmfYcLZe0np9UOimdCNRkwcT'\u001b[0m, \u001b[33marguments\u001b[0m=\u001b[32m'\u001b[0m\u001b[32m{\u001b[0m\u001b[32m}\u001b[0m\u001b[32m'\u001b[0m, \u001b[33mname\u001b[0m=\u001b[32m'transfer_to_user'\u001b[0m\u001b[1m)\u001b[0m\u001b[1m]\u001b[0m,\n",
       "        \u001b[33mtype\u001b[0m=\u001b[32m'ToolCallRequestEvent'\u001b[0m\n",
       "    \u001b[1m)\u001b[0m,\n",
       "    \u001b[1;35mToolCallExecutionEvent\u001b[0m\u001b[1m(\u001b[0m\n",
       "        \u001b[33msource\u001b[0m=\u001b[32m'travel_agent'\u001b[0m,\n",
       "        \u001b[33mmodels_usage\u001b[0m=\u001b[3;35mNone\u001b[0m,\n",
       "        \u001b[33mmetadata\u001b[0m=\u001b[1m{\u001b[0m\u001b[1m}\u001b[0m,\n",
       "        \u001b[33mcontent\u001b[0m=\u001b[1m[\u001b[0m\n",
       "            \u001b[1;35mFunctionExecutionResult\u001b[0m\u001b[1m(\u001b[0m\n",
       "                \u001b[33mcontent\u001b[0m=\u001b[32m'Transferred to user, adopting the role of user immediately.'\u001b[0m,\n",
       "                \u001b[33mname\u001b[0m=\u001b[32m'transfer_to_user'\u001b[0m,\n",
       "                \u001b[33mcall_id\u001b[0m=\u001b[32m'call_kmfYcLZe0np9UOimdCNRkwcT'\u001b[0m,\n",
       "                \u001b[33mis_error\u001b[0m=\u001b[3;91mFalse\u001b[0m\n",
       "            \u001b[1m)\u001b[0m\n",
       "        \u001b[1m]\u001b[0m,\n",
       "        \u001b[33mtype\u001b[0m=\u001b[32m'ToolCallExecutionEvent'\u001b[0m\n",
       "    \u001b[1m)\u001b[0m,\n",
       "    \u001b[1;35mHandoffMessage\u001b[0m\u001b[1m(\u001b[0m\n",
       "        \u001b[33msource\u001b[0m=\u001b[32m'travel_agent'\u001b[0m,\n",
       "        \u001b[33mmodels_usage\u001b[0m=\u001b[3;35mNone\u001b[0m,\n",
       "        \u001b[33mmetadata\u001b[0m=\u001b[1m{\u001b[0m\u001b[1m}\u001b[0m,\n",
       "        \u001b[33mtarget\u001b[0m=\u001b[32m'user'\u001b[0m,\n",
       "        \u001b[33mcontent\u001b[0m=\u001b[32m'Transferred to user, adopting the role of user immediately.'\u001b[0m,\n",
       "        \u001b[33mcontext\u001b[0m=\u001b[1m[\u001b[0m\u001b[1m]\u001b[0m,\n",
       "        \u001b[33mtype\u001b[0m=\u001b[32m'HandoffMessage'\u001b[0m\n",
       "    \u001b[1m)\u001b[0m\n",
       "\u001b[1m]\u001b[0m\n"
      ]
     },
     "metadata": {},
     "output_type": "display_data"
    },
    {
     "name": "stdout",
     "output_type": "stream",
     "text": [
      "---------- user ----------\n",
      "a refund\n",
      "---------- travel_agent ----------\n",
      "[FunctionCall(id='call_XErLXmle1gMzSVcGpubvozVI', arguments='{}', name='transfer_to_flights_refunder')]\n",
      "---------- travel_agent ----------\n",
      "[FunctionExecutionResult(content='Transferred to flights_refunder, adopting the role of flights_refunder immediately.', name='transfer_to_flights_refunder', call_id='call_XErLXmle1gMzSVcGpubvozVI', is_error=False)]\n",
      "---------- travel_agent ----------\n",
      "Transferred to flights_refunder, adopting the role of flights_refunder immediately.\n",
      "---------- flights_refunder ----------\n",
      "Could you please provide the flight reference number for the flight you would like to refund?\n",
      "---------- flights_refunder ----------\n",
      "[FunctionCall(id='call_7w9FnbOQwCe8udXJhnXcXbxs', arguments='{}', name='transfer_to_user')]\n",
      "---------- flights_refunder ----------\n",
      "[FunctionExecutionResult(content='Transferred to user, adopting the role of user immediately.', name='transfer_to_user', call_id='call_7w9FnbOQwCe8udXJhnXcXbxs', is_error=False)]\n",
      "---------- flights_refunder ----------\n",
      "Transferred to user, adopting the role of user immediately.\n",
      "---------- user ----------\n",
      "932\n"
     ]
    },
    {
     "data": {
      "text/html": [
       "<pre style=\"white-space:pre;overflow-x:auto;line-height:normal;font-family:Menlo,'DejaVu Sans Mono',consolas,'Courier New',monospace\"><span style=\"color: #000080; text-decoration-color: #000080\">Refunding flight </span><span style=\"color: #000080; text-decoration-color: #000080; font-weight: bold\">932</span>\n",
       "</pre>\n"
      ],
      "text/plain": [
       "\u001b[34mRefunding flight \u001b[0m\u001b[1;34m932\u001b[0m\n"
      ]
     },
     "metadata": {},
     "output_type": "display_data"
    },
    {
     "name": "stdout",
     "output_type": "stream",
     "text": [
      "---------- flights_refunder ----------\n",
      "[FunctionCall(id='call_HOXCQcYN8GBHNWjTIxZq3vMS', arguments='{\"flight_id\":\"932\"}', name='refund_flight')]\n",
      "---------- flights_refunder ----------\n",
      "[FunctionExecutionResult(content='Flight 932 refunded', name='refund_flight', call_id='call_HOXCQcYN8GBHNWjTIxZq3vMS', is_error=False)]\n",
      "---------- flights_refunder ----------\n",
      "Flight 932 refunded\n",
      "---------- flights_refunder ----------\n",
      "[FunctionCall(id='call_YNmB4FXZcbEAUncAXx0Tm7am', arguments='{}', name='transfer_to_travel_agent')]\n",
      "---------- flights_refunder ----------\n",
      "[FunctionExecutionResult(content='Transferred to travel_agent, adopting the role of travel_agent immediately.', name='transfer_to_travel_agent', call_id='call_YNmB4FXZcbEAUncAXx0Tm7am', is_error=False)]\n",
      "---------- flights_refunder ----------\n",
      "Transferred to travel_agent, adopting the role of travel_agent immediately.\n",
      "---------- travel_agent ----------\n",
      "Your refund request for flight 932 has been processed successfully. If you need further assistance, feel free to ask. Safe travels! TERMINATE\n"
     ]
    }
   ],
   "source": [
    "\n",
    "# This is the task that the user wants to accomplish.\n",
    "task = input(\"How can the agent help you?: \")\n",
    "\n",
    "# Run the task\n",
    "task_result = await Console(team.run_stream(task=task))\n",
    "\n",
    "print(task_result.messages)\n",
    "# Get the last message because it might be a handoff message to the user\n",
    "last_message = task_result.messages[-1]\n",
    "\n",
    "while isinstance(last_message, HandoffMessage) and last_message.target == \"user\":\n",
    "    user_message = input(\"User: \")\n",
    "    # Note that the user message is sent to the last agent that handed off to the user (via source)\n",
    "    # And since the Team keeps its state, the previous information is still available.\n",
    "    task_result = await Console(\n",
    "        team.run_stream(task=HandoffMessage(source=\"user\", target=last_message.source, content=user_message))\n",
    "    )\n",
    "    last_message = task_result.messages[-1]"
   ]
  }
 ],
 "metadata": {
  "kernelspec": {
   "display_name": ".venv",
   "language": "python",
   "name": "python3"
  },
  "language_info": {
   "codemirror_mode": {
    "name": "ipython",
    "version": 3
   },
   "file_extension": ".py",
   "mimetype": "text/x-python",
   "name": "python",
   "nbconvert_exporter": "python",
   "pygments_lexer": "ipython3",
   "version": "3.12.9"
  }
 },
 "nbformat": 4,
 "nbformat_minor": 2
}
