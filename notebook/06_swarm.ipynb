{
 "cells": [
  {
   "cell_type": "markdown",
   "metadata": {},
   "source": [
    "## Swarm Team  \n",
    "\n",
    "The `Swarm` team is inspired by the one provided by [OpenAI](https://github.com/openai/swarm), where an agent can choose to hand off a task to another agent.  \n",
    "\n",
    "It functions as a group chat, similar to the ones we've seen before, where each agent broadcasts their responses to all other agents in the group. \n",
    "However, the next agent to act is determined by the most recent `HandsoffMessage`.  \n",
    "\n",
    "**NOTE**: The handoff functionality relies on the tool calling feature, meaning the LLM used by the agent **MUST** support tool calling.  "
   ]
  },
  {
   "cell_type": "code",
   "execution_count": 6,
   "metadata": {},
   "outputs": [],
   "source": [
    "import sys\n",
    "sys.path.append(\"..\")\n",
    "\n",
    "from autogen_agentchat.agents import AssistantAgent, UserProxyAgent\n",
    "from autogen_agentchat.conditions import HandoffTermination, TextMentionTermination\n",
    "from autogen_agentchat.teams import Swarm\n",
    "from autogen_agentchat.messages import HandoffMessage\n",
    "from autogen_agentchat.ui import Console\n",
    "from model_clients.azure import get_model\n",
    "from rich import print\n",
    "\n",
    "\n",
    "model_client = get_model()"
   ]
  },
  {
   "cell_type": "markdown",
   "metadata": {},
   "source": [
    "As usual, let's now define the tools involved"
   ]
  },
  {
   "cell_type": "code",
   "execution_count": 7,
   "metadata": {},
   "outputs": [],
   "source": [
    "def refund_flight(flight_id: str) -> str:\n",
    "    \"\"\"Refund a flight\n",
    "\n",
    "    :param flight_id: The ID of the flight.\n",
    "    :return: The confirmation that the flight has been refunded.\n",
    "    \"\"\"\n",
    "    print(f\"[blue]Refunding flight {flight_id}[/blue]\")\n",
    "    return f\"Flight {flight_id} refunded\"\n"
   ]
  },
  {
   "cell_type": "markdown",
   "metadata": {},
   "source": [
    "Now its time to define the agents..."
   ]
  },
  {
   "cell_type": "code",
   "execution_count": 8,
   "metadata": {},
   "outputs": [],
   "source": [
    "travel_agent = AssistantAgent(\n",
    "    \"travel_agent\",\n",
    "    model_client=model_client,\n",
    "    handoffs=[\"flights_refunder\", \"user\"],\n",
    "    system_message=\"\"\"You are a travel agent.\n",
    "    The flights_refunder is in charge of refunding flights.\n",
    "    If you need information from the user, you can handoff to the user.\n",
    "    Use TERMINATE when the travel planning is complete.\"\"\",\n",
    ")\n",
    "\n",
    "flights_refunder = AssistantAgent(\n",
    "    \"flights_refunder\",\n",
    "    model_client=model_client,\n",
    "    handoffs=[\"travel_agent\", \"user\"],\n",
    "    tools=[refund_flight],\n",
    "    system_message=\"\"\"You are an agent specialized in refunding flights.\n",
    "    You only need flight reference numbers to refund a flight.\n",
    "    You have the ability to refund a flight using the refund_flight tool.\n",
    "    If you need information from the user, you must first send your message, then you can handoff to the user.\n",
    "    When the transaction is complete, handoff to the travel agent to finalize.\n",
    "    Use TERMINATE when the refunding is complete or when the bookins id is 'exit'.\"\"\",\n",
    ")\n",
    "\n",
    "user_agent= UserProxyAgent(name=\"user\",\n",
    "                            description= \"The user in charge of handling additional requests from the assistant\",input_func=input)"
   ]
  },
  {
   "cell_type": "markdown",
   "metadata": {},
   "source": [
    "And finally the Swarm team with the proper termination conditions"
   ]
  },
  {
   "cell_type": "code",
   "execution_count": 10,
   "metadata": {},
   "outputs": [],
   "source": [
    "termination = HandoffTermination(target=\"user\") | TextMentionTermination(\"TERMINATE\")\n",
    "team = Swarm([travel_agent, flights_refunder], termination_condition=termination)\n"
   ]
  },
  {
   "cell_type": "markdown",
   "metadata": {},
   "source": [
    "Now run the workflow, you can see the handsoff in action using, as example:  \n",
    "\n",
    "- 'I need help with my flight'\n",
    "- 'I need a refund'\n",
    "- 'I want my flight 678 refunded'\n",
    "\n",
    "And test the different behavior"
   ]
  },
  {
   "cell_type": "code",
   "execution_count": 11,
   "metadata": {},
   "outputs": [
    {
     "name": "stdout",
     "output_type": "stream",
     "text": [
      "---------- user ----------\n",
      "TERMINATE\n"
     ]
    },
    {
     "data": {
      "text/html": [
       "<pre style=\"white-space:pre;overflow-x:auto;line-height:normal;font-family:Menlo,'DejaVu Sans Mono',consolas,'Courier New',monospace\"><span style=\"font-weight: bold\">[</span><span style=\"color: #800080; text-decoration-color: #800080; font-weight: bold\">TextMessage</span><span style=\"font-weight: bold\">(</span><span style=\"color: #808000; text-decoration-color: #808000\">source</span>=<span style=\"color: #008000; text-decoration-color: #008000\">'user'</span>, <span style=\"color: #808000; text-decoration-color: #808000\">models_usage</span>=<span style=\"color: #800080; text-decoration-color: #800080; font-style: italic\">None</span>, <span style=\"color: #808000; text-decoration-color: #808000\">metadata</span>=<span style=\"font-weight: bold\">{}</span>, <span style=\"color: #808000; text-decoration-color: #808000\">content</span>=<span style=\"color: #008000; text-decoration-color: #008000\">'TERMINATE'</span>, <span style=\"color: #808000; text-decoration-color: #808000\">type</span>=<span style=\"color: #008000; text-decoration-color: #008000\">'TextMessage'</span><span style=\"font-weight: bold\">)]</span>\n",
       "</pre>\n"
      ],
      "text/plain": [
       "\u001b[1m[\u001b[0m\u001b[1;35mTextMessage\u001b[0m\u001b[1m(\u001b[0m\u001b[33msource\u001b[0m=\u001b[32m'user'\u001b[0m, \u001b[33mmodels_usage\u001b[0m=\u001b[3;35mNone\u001b[0m, \u001b[33mmetadata\u001b[0m=\u001b[1m{\u001b[0m\u001b[1m}\u001b[0m, \u001b[33mcontent\u001b[0m=\u001b[32m'TERMINATE'\u001b[0m, \u001b[33mtype\u001b[0m=\u001b[32m'TextMessage'\u001b[0m\u001b[1m)\u001b[0m\u001b[1m]\u001b[0m\n"
      ]
     },
     "metadata": {},
     "output_type": "display_data"
    }
   ],
   "source": [
    "\n",
    "# This is the task that the user wants to accomplish.\n",
    "task = input(\"How can the agent help you?: \")\n",
    "\n",
    "# Run the task\n",
    "task_result = await Console(team.run_stream(task=task))\n",
    "\n",
    "print(task_result.messages)\n",
    "# Get the last message because it might be a handoff message to the user\n",
    "last_message = task_result.messages[-1]\n",
    "\n",
    "while isinstance(last_message, HandoffMessage) and last_message.target == \"user\":\n",
    "    user_message = input(\"User: \")\n",
    "    # Note that the user message is sent to the last agent that handed off to the user (via source)\n",
    "    # And since the Team keeps its state, the previous information is still available.\n",
    "    task_result = await Console(\n",
    "        team.run_stream(task=HandoffMessage(source=\"user\", target=last_message.source, content=user_message))\n",
    "    )\n",
    "    last_message = task_result.messages[-1]"
   ]
  }
 ],
 "metadata": {
  "kernelspec": {
   "display_name": ".venv",
   "language": "python",
   "name": "python3"
  },
  "language_info": {
   "codemirror_mode": {
    "name": "ipython",
    "version": 3
   },
   "file_extension": ".py",
   "mimetype": "text/x-python",
   "name": "python",
   "nbconvert_exporter": "python",
   "pygments_lexer": "ipython3",
   "version": "3.12.9"
  }
 },
 "nbformat": 4,
 "nbformat_minor": 2
}
