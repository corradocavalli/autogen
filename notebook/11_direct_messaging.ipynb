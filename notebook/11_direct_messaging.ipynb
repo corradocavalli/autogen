{
 "cells": [
  {
   "cell_type": "markdown",
   "metadata": {},
   "source": [
    "## Direct messaging\n",
    "In the previous notebook we saw how to setup an agent and send messages to it.  \n",
    "\n",
    "Let's now create two agents and let's have one sending a message to the other and get a response back."
   ]
  },
  {
   "cell_type": "code",
   "execution_count": 12,
   "metadata": {},
   "outputs": [],
   "source": [
    "from dataclasses import dataclass\n",
    "from autogen_core import AgentId, MessageContext, RoutedAgent, message_handler\n",
    "from autogen_core import SingleThreadedAgentRuntime\n",
    "from rich import print"
   ]
  },
  {
   "cell_type": "markdown",
   "metadata": {},
   "source": [
    "Well' use a set of messages for our workflow communication"
   ]
  },
  {
   "cell_type": "code",
   "execution_count": 2,
   "metadata": {},
   "outputs": [],
   "source": [
    "@dataclass\n",
    "class RequestMessage:\n",
    "    content: str\n",
    "\n",
    "@dataclass\n",
    "class ResponseMessage:\n",
    "    content: str\n",
    "\n",
    "@dataclass\n",
    "class PoemMessage:\n",
    "    content: str\n",
    "\n",
    "@dataclass\n",
    "class ReviewMessage:\n",
    "    content: str"
   ]
  },
  {
   "cell_type": "markdown",
   "metadata": {},
   "source": [
    "Time to create our two simple agents: PoemAgen will create a Poem while ReviewAgent will approve it."
   ]
  },
  {
   "cell_type": "code",
   "execution_count": null,
   "metadata": {},
   "outputs": [],
   "source": [
    "class ReviewAgent(RoutedAgent):\n",
    "    @message_handler\n",
    "    async def on_my_message(self, message: PoemMessage, ctx: MessageContext) -> ReviewMessage:\n",
    "        print(f\"[cyan]ReviewAgent received message: '{message.content}', reviewing...[/cyan]\")\n",
    "        return ReviewMessage(content=\"I like it! approved\")\n",
    "\n",
    "\n",
    "class PoemAgent(RoutedAgent):\n",
    "    def __init__(self, description: str, reviewer_agent_type: str):\n",
    "        super().__init__(description)\n",
    "        self.reviewer_id = AgentId(reviewer_agent_type, self.id.key)\n",
    "\n",
    "    @message_handler\n",
    "    async def on_my_message(self, message: RequestMessage, ctx: MessageContext) -> ResponseMessage:\n",
    "        print(f\"[yellow]CoderAgent received message: '{message.content}'[/yellow]\")\n",
    "\n",
    "        # Send a direct message to the review agent and receives a response from it\n",
    "        response = await self.send_message(PoemMessage(content=\"This is my wonderful poem\"), recipient=self.reviewer_id)\n",
    "        if isinstance(response, ReviewMessage):\n",
    "            print(f\"[yellow]CoderAgent received response from ReviewAgent: {response.content}[/yellow]\")\n",
    "            return ResponseMessage(content=\"'This is my wonderful poem' was reviewed and approved.\")\n",
    "        else:\n",
    "            return ResponseMessage(content=\"Ops! Something went wrong\")"
   ]
  },
  {
   "cell_type": "markdown",
   "metadata": {},
   "source": [
    "As before, it's time to create the runtime, set all the necessary registration, run it and send a message to the PoemAgent."
   ]
  },
  {
   "cell_type": "code",
   "execution_count": 11,
   "metadata": {},
   "outputs": [
    {
     "data": {
      "text/html": [
       "<pre style=\"white-space:pre;overflow-x:auto;line-height:normal;font-family:Menlo,'DejaVu Sans Mono',consolas,'Courier New',monospace\"><span style=\"color: #800080; text-decoration-color: #800080\">Sending a message to the PoemAgent</span>\n",
       "</pre>\n"
      ],
      "text/plain": [
       "\u001b[35mSending a message to the PoemAgent\u001b[0m\n"
      ]
     },
     "metadata": {},
     "output_type": "display_data"
    },
    {
     "data": {
      "text/html": [
       "<pre style=\"white-space:pre;overflow-x:auto;line-height:normal;font-family:Menlo,'DejaVu Sans Mono',consolas,'Courier New',monospace\"><span style=\"color: #808000; text-decoration-color: #808000\">CoderAgent received message: </span><span style=\"color: #808000; text-decoration-color: #808000\">'Please me a poem'</span>\n",
       "</pre>\n"
      ],
      "text/plain": [
       "\u001b[33mCoderAgent received message: \u001b[0m\u001b[33m'Please me a poem'\u001b[0m\n"
      ]
     },
     "metadata": {},
     "output_type": "display_data"
    },
    {
     "data": {
      "text/html": [
       "<pre style=\"white-space:pre;overflow-x:auto;line-height:normal;font-family:Menlo,'DejaVu Sans Mono',consolas,'Courier New',monospace\"><span style=\"color: #008080; text-decoration-color: #008080\">ReviewAgent received message: </span><span style=\"color: #008080; text-decoration-color: #008080\">'This is my wonderful poem'</span><span style=\"color: #008080; text-decoration-color: #008080\">, reviewing...</span>\n",
       "</pre>\n"
      ],
      "text/plain": [
       "\u001b[36mReviewAgent received message: \u001b[0m\u001b[36m'This is my wonderful poem'\u001b[0m\u001b[36m, reviewing\u001b[0m\u001b[36m...\u001b[0m\n"
      ]
     },
     "metadata": {},
     "output_type": "display_data"
    },
    {
     "data": {
      "text/html": [
       "<pre style=\"white-space:pre;overflow-x:auto;line-height:normal;font-family:Menlo,'DejaVu Sans Mono',consolas,'Courier New',monospace\"><span style=\"color: #808000; text-decoration-color: #808000\">CoderAgent received response from ReviewAgent: I like it! approved</span>\n",
       "</pre>\n"
      ],
      "text/plain": [
       "\u001b[33mCoderAgent received response from ReviewAgent: I like it! approved\u001b[0m\n"
      ]
     },
     "metadata": {},
     "output_type": "display_data"
    },
    {
     "data": {
      "text/html": [
       "<pre style=\"white-space:pre;overflow-x:auto;line-height:normal;font-family:Menlo,'DejaVu Sans Mono',consolas,'Courier New',monospace\"><span style=\"color: #008000; text-decoration-color: #008000\">'This is my wonderful poem'</span> was reviewed and approved\n",
       "</pre>\n"
      ],
      "text/plain": [
       "\u001b[32m'This is my wonderful poem'\u001b[0m was reviewed and approved\n"
      ]
     },
     "metadata": {},
     "output_type": "display_data"
    }
   ],
   "source": [
    "# Create the runtime\n",
    "runtime = SingleThreadedAgentRuntime()\n",
    "\n",
    "# Register the agents with the runtime, note how we pass the type of review agent to the PoemAgent so it can send messages to it\n",
    "await PoemAgent.register(runtime, type=\"poem_agent\", factory=lambda: PoemAgent(\"I am the PoemAgent, I write poems for free\", \"review_agent\"))\n",
    "await ReviewAgent.register(runtime, type=\"review_agent\", factory=lambda: ReviewAgent(\"I am the ReviewAgent, I review poems for (almost) free\"))\n",
    "\n",
    "runtime.start()\n",
    "print(\"[magenta]Sending a message to the PoemAgent[/magenta]\")\n",
    "response=await runtime.send_message(RequestMessage(content=\"Please me a poem\"), recipient=AgentId(\"poem_agent\",\"default\"))\n",
    "print(response.content)\n",
    "await runtime.stop_when_idle()\n",
    "await runtime.close()"
   ]
  },
  {
   "cell_type": "markdown",
   "metadata": {},
   "source": [
    "As you might notice, direct messaging support request/response making syncronous communication between runtime and agents effortless."
   ]
  }
 ],
 "metadata": {
  "kernelspec": {
   "display_name": ".venv",
   "language": "python",
   "name": "python3"
  },
  "language_info": {
   "codemirror_mode": {
    "name": "ipython",
    "version": 3
   },
   "file_extension": ".py",
   "mimetype": "text/x-python",
   "name": "python",
   "nbconvert_exporter": "python",
   "pygments_lexer": "ipython3",
   "version": "3.12.9"
  }
 },
 "nbformat": 4,
 "nbformat_minor": 2
}
