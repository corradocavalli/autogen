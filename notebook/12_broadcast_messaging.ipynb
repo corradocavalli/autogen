{
 "cells": [
  {
   "cell_type": "markdown",
   "metadata": {},
   "source": [
    "## Broadcast messaging\n",
    "In this mode, the messages are not sent directly to a an agent but are just \"published\", \n",
    "if someone has registered for such message it will received it otherwise it will simply get lost.  \n",
    "\n",
    "Also important to note:  \n",
    "- Request/Response mode won't work in this case.\n",
    "- If an agent return a message from an handler it will be ignored.\n",
    "- If an agent pushes a message for with it has subscribed it won't receive it.\n",
    "\n",
    "Let's now create an example with two agents, each subscribing to a specific topic."
   ]
  },
  {
   "cell_type": "code",
   "execution_count": null,
   "metadata": {},
   "outputs": [],
   "source": [
    "from dataclasses import dataclass\n",
    "from autogen_core import AgentId, MessageContext, RoutedAgent, message_handler, TopicId, DefaultTopicId\n",
    "from autogen_core import SingleThreadedAgentRuntime, type_subscription, TypeSubscription\n",
    "from rich import print\n",
    "import time\n",
    "import random\n",
    "import asyncio"
   ]
  },
  {
   "cell_type": "markdown",
   "metadata": {},
   "source": [
    "As usual we need some messaging types"
   ]
  },
  {
   "cell_type": "code",
   "execution_count": null,
   "metadata": {},
   "outputs": [],
   "source": [
    "@dataclass\n",
    "class Message:\n",
    "    content: str"
   ]
  },
  {
   "cell_type": "markdown",
   "metadata": {},
   "source": [
    "Now we create the agent, in this case is important to note that we can create a type subscription in two ways:\n",
    "\n",
    "1. Using the `@type_subscription decorator`,` as with OrderAgent.\n",
    "2. Using the runtime `add_subscription` method."
   ]
  },
  {
   "cell_type": "code",
   "execution_count": null,
   "metadata": {},
   "outputs": [],
   "source": [
    "\n",
    "@type_subscription(topic_type=\"order\")\n",
    "class OrderAgent(RoutedAgent):\n",
    "    @message_handler\n",
    "    async def on_my_message(self, message: Message, ctx: MessageContext) -> None:\n",
    "        print(f\"[cyan]OrderAgent received message: '{message.content}'[/cyan]\")\n",
    "        time.sleep(1)\n",
    "        print(f\"[cyan]Order processed, publishing request to continue with shipping.[/cyan]\")\n",
    "        order_id=random.randint(1,10)\n",
    "        await self.publish_message(Message(content=f\"Please ship order {order_id}\"), topic_id=TopicId(\"shipping\", self.id.key))\n",
    "\n",
    "\n",
    "class ShippingAgent(RoutedAgent):\n",
    "    @message_handler\n",
    "    async def on_my_message(self, message: Message, ctx: MessageContext) -> None:\n",
    "        print(f\"[yellow]ShippingAgent received message: '{message.content}'[/yellow]\") \n",
    "        time.sleep(1)\n",
    "        print(f\"[yellow]Order shipped.[/yellow]\")       "
   ]
  },
  {
   "cell_type": "markdown",
   "metadata": {},
   "source": [
    "Now, as usual, we need to register the agents with the runtime, the presence of the type_subscription decorator will automatically\n",
    "map the topic `order` to OrderAgent and `shipping` to ShippingAgent using `default` as topic source."
   ]
  },
  {
   "cell_type": "code",
   "execution_count": null,
   "metadata": {},
   "outputs": [],
   "source": [
    "runtime = SingleThreadedAgentRuntime()\n",
    "await OrderAgent.register(runtime, \"order_agent\", lambda: OrderAgent(\"I am the order agent\")) # Register the OrderAgent and type subscription\n",
    "await ShippingAgent.register(runtime, \"shipping_agent\", lambda: ShippingAgent(\"I am the shipping agent\")) # Register only the ShippingAgent\n",
    "\n",
    "type_subscription=TypeSubscription(topic_type=\"shipping\", agent_type=\"shipping_agent\")\n",
    "await runtime.add_subscription(type_subscription) # Subscribe the ShippingAgent to the \"shipping\" topic (other mode)\n",
    "\n",
    "# start the runtime\n",
    "runtime.start()\n",
    "\n",
    "print(\"[green]Publishing 1st order...[/green]\")\n",
    "await runtime.publish_message(\n",
    "    Message(content=\"I want to order an IPhone 16 Pro\"),\n",
    "            topic_id=TopicId(type=\"order\",source=\"default\"))\n",
    "\n",
    "await runtime.stop_when_idle()\n",
    "await runtime.close()"
   ]
  },
  {
   "cell_type": "markdown",
   "metadata": {},
   "source": [
    "As you see from the printed output the initial published topic has been collected by Order agent and the topic he published\n",
    "has been collected by the shipping agent."
   ]
  },
  {
   "cell_type": "markdown",
   "metadata": {},
   "source": [
    "*Can the same agent subscribe to multiple topics?* \n",
    "\n",
    "Yes 😊 you can add more than one `type_subscription` decorators or use the `add_subscription` method."
   ]
  },
  {
   "cell_type": "markdown",
   "metadata": {},
   "source": [
    "### Getting resuls out from the workflow\n",
    "Since with broadcasting we can't use request/response, how can we get the result from system like we did with direct messaging?  \n",
    "\n",
    "The approach to use is to use a dedicated agent whose goal is to collect the final result/s and make them available externally.  \n",
    "\n",
    "For common scenarios AutoGen offers the `ClosureAgent`"
   ]
  },
  {
   "cell_type": "markdown",
   "metadata": {},
   "source": [
    "Step 1: Import some AutoGen types, create a message that will contain the results, and a Queue to collect those messages"
   ]
  },
  {
   "cell_type": "code",
   "execution_count": null,
   "metadata": {},
   "outputs": [],
   "source": [
    "from autogen_core import ClosureAgent, ClosureContext, DefaultSubscription\n",
    "\n",
    "@dataclass\n",
    "class FinalResult:\n",
    "    value: str\n",
    "\n",
    "queue = asyncio.Queue[FinalResult]()"
   ]
  },
  {
   "cell_type": "markdown",
   "metadata": {},
   "source": [
    "We create a new Shipping Agent that will publish a `FinalResult` message when order is shipped"
   ]
  },
  {
   "cell_type": "code",
   "execution_count": null,
   "metadata": {},
   "outputs": [],
   "source": [
    "from autogen_core import SingleThreadedAgentRuntime, type_subscription\n",
    "\n",
    "@type_subscription(topic_type=\"shipping\")\n",
    "class ShippingAgentWithConfirm(RoutedAgent):\n",
    "    @message_handler\n",
    "    async def on_my_message(self, message: Message, ctx: MessageContext) -> None:\n",
    "        print(f\"[yellow]ShippingAgent received message: '{message.content}'[/yellow]\") \n",
    "        time.sleep(1)\n",
    "        await self.publish_message(FinalResult(value=\"Order successfully shipped.\"), topic_id=DefaultTopicId())\n",
    "        print(f\"[yellow]Order shipped.[/yellow]\")   "
   ]
  },
  {
   "cell_type": "markdown",
   "metadata": {},
   "source": [
    "Create a new runtime and add the required agent and typer registrations."
   ]
  },
  {
   "cell_type": "code",
   "execution_count": null,
   "metadata": {},
   "outputs": [],
   "source": [
    "runtime = SingleThreadedAgentRuntime()\n",
    "\n",
    "await OrderAgent.register(runtime, \"order_agent\", lambda: OrderAgent(\"I am the order agent\")) \n",
    "await ShippingAgentWithConfirm.register(runtime, \"shipping_agent\", lambda: ShippingAgentWithConfirm(\"I am the shipping agent\")) "
   ]
  },
  {
   "cell_type": "markdown",
   "metadata": {},
   "source": [
    "Now we need to add the registration for the agent that will collect the `FinalResult` message."
   ]
  },
  {
   "cell_type": "code",
   "execution_count": null,
   "metadata": {},
   "outputs": [],
   "source": [
    "\n",
    "async def output_result(_agent: ClosureContext, message: FinalResult, ctx: MessageContext) -> None:\n",
    "    await queue.put(message)\n",
    "\n",
    "await ClosureAgent.register_closure(runtime, \"output_result\", output_result, subscriptions=lambda: [DefaultSubscription()])"
   ]
  },
  {
   "cell_type": "markdown",
   "metadata": {},
   "source": [
    "As before, we broadcast the initial message and, once the runtime processed all the messages, we read the content of the queue that will contain the result/s we wish to export."
   ]
  },
  {
   "cell_type": "code",
   "execution_count": null,
   "metadata": {},
   "outputs": [],
   "source": [
    "runtime.start()\n",
    "\n",
    "print(\"[green]Publishing 1st order...[/green]\")\n",
    "await runtime.publish_message(\n",
    "    Message(content=\"I want to order an IPhone 16 Pro\"),\n",
    "            topic_id=TopicId(type=\"order\",source=\"default\"))\n",
    "\n",
    "await runtime.stop_when_idle()\n",
    "await runtime.close()\n",
    "while not queue.empty():\n",
    "        print((result := await queue.get()).value)"
   ]
  }
 ],
 "metadata": {
  "kernelspec": {
   "display_name": ".venv",
   "language": "python",
   "name": "python3"
  },
  "language_info": {
   "codemirror_mode": {
    "name": "ipython",
    "version": 3
   },
   "file_extension": ".py",
   "mimetype": "text/x-python",
   "name": "python",
   "nbconvert_exporter": "python",
   "pygments_lexer": "ipython3",
   "version": "3.12.9"
  }
 },
 "nbformat": 4,
 "nbformat_minor": 2
}
